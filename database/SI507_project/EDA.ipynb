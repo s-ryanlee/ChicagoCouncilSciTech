{
  "nbformat": 4,
  "nbformat_minor": 0,
  "metadata": {
    "colab": {
      "name": "EDA.ipynb",
      "provenance": [],
      "authorship_tag": "ABX9TyOMEyyfPAyRNIcvJ2Ss/aVv"
    },
    "kernelspec": {
      "name": "python3",
      "display_name": "Python 3"
    },
    "language_info": {
      "name": "python"
    }
  },
  "cells": [
    {
      "cell_type": "code",
      "metadata": {
        "id": "n1cU9gz6b8J_"
      },
      "source": [
        "import pandas as pd\n",
        "import seaborn as sns\n",
        "import matplotlib.pyplot as plt\n"
      ],
      "execution_count": null,
      "outputs": []
    },
    {
      "cell_type": "code",
      "metadata": {
        "colab": {
          "base_uri": "https://localhost:8080/"
        },
        "id": "tY3x0lLobrUc",
        "outputId": "28b6b535-e44a-4653-bf5c-126164fac764"
      },
      "source": [
        "from google.colab import drive\n",
        "drive.mount('/content/drive')\n",
        "%cd '/content/drive/Shareddrives/C2ST_CommunityCorpsW21/deliverables/notebooks/c2st_data_files/'"
      ],
      "execution_count": null,
      "outputs": [
        {
          "output_type": "stream",
          "text": [
            "Mounted at /content/drive\n",
            "/content/drive/Shareddrives/C2ST_CommunityCorpsW21/deliverables/notebooks/c2st_data_files\n"
          ],
          "name": "stdout"
        }
      ]
    },
    {
      "cell_type": "code",
      "metadata": {
        "colab": {
          "base_uri": "https://localhost:8080/",
          "height": 1000
        },
        "id": "qGdBz32DcFMQ",
        "outputId": "9f774601-9c2a-4612-811c-d9ab1774b649"
      },
      "source": [
        "events = pd.read_csv('all_events.csv')\n",
        "events.tail(10)"
      ],
      "execution_count": null,
      "outputs": [
        {
          "output_type": "execute_result",
          "data": {
            "text/html": [
              "<div>\n",
              "<style scoped>\n",
              "    .dataframe tbody tr th:only-of-type {\n",
              "        vertical-align: middle;\n",
              "    }\n",
              "\n",
              "    .dataframe tbody tr th {\n",
              "        vertical-align: top;\n",
              "    }\n",
              "\n",
              "    .dataframe thead th {\n",
              "        text-align: right;\n",
              "    }\n",
              "</style>\n",
              "<table border=\"1\" class=\"dataframe\">\n",
              "  <thead>\n",
              "    <tr style=\"text-align: right;\">\n",
              "      <th></th>\n",
              "      <th>event_no</th>\n",
              "      <th>title</th>\n",
              "      <th>url</th>\n",
              "      <th>date</th>\n",
              "      <th>day_of_week</th>\n",
              "      <th>start_time</th>\n",
              "      <th>end_time</th>\n",
              "      <th>location</th>\n",
              "      <th>eventbrite_url</th>\n",
              "      <th>third_party_url</th>\n",
              "      <th>primary_series</th>\n",
              "      <th>secondary_series</th>\n",
              "      <th>description</th>\n",
              "    </tr>\n",
              "  </thead>\n",
              "  <tbody>\n",
              "    <tr>\n",
              "      <th>305</th>\n",
              "      <td>306</td>\n",
              "      <td>The Art &amp; Science of Distilling with Dr. Rober...</td>\n",
              "      <td>https://www.c2st.org/event/the-art-science-of-...</td>\n",
              "      <td>2021-03-27</td>\n",
              "      <td>Saturday</td>\n",
              "      <td>5:00pm</td>\n",
              "      <td>6:00pm</td>\n",
              "      <td>Facebook Live and C2ST YouTube TV</td>\n",
              "      <td>https://www.eventbrite.com/e/the-art-science-o...</td>\n",
              "      <td>NaN</td>\n",
              "      <td>Science and Society</td>\n",
              "      <td>NaN</td>\n",
              "      <td>On International Whiskey Day, join C2ST and KO...</td>\n",
              "    </tr>\n",
              "    <tr>\n",
              "      <th>306</th>\n",
              "      <td>307</td>\n",
              "      <td>Mental Help: Impacts of Isolation, Racism, and...</td>\n",
              "      <td>https://www.c2st.org/event/mental-help-impacts...</td>\n",
              "      <td>2021-03-29</td>\n",
              "      <td>Monday</td>\n",
              "      <td>11:00am</td>\n",
              "      <td>12:00am</td>\n",
              "      <td>NaN</td>\n",
              "      <td>https://www.eventbrite.com/e/mental-help-impac...</td>\n",
              "      <td>NaN</td>\n",
              "      <td>Health and Wellness</td>\n",
              "      <td>Science and Society</td>\n",
              "      <td>Dr. Jaleel Abdul-Adil (University of Illinois)...</td>\n",
              "    </tr>\n",
              "    <tr>\n",
              "      <th>307</th>\n",
              "      <td>308</td>\n",
              "      <td>Science and Sandwiches featuring Jeanette Bart...</td>\n",
              "      <td>https://www.c2st.org/event/science-and-sandwic...</td>\n",
              "      <td>2021-04-02</td>\n",
              "      <td>Friday</td>\n",
              "      <td>12:15pm</td>\n",
              "      <td>12:45pm</td>\n",
              "      <td>Virtual</td>\n",
              "      <td>https://www.eventbrite.com/e/science-and-sandw...</td>\n",
              "      <td>NaN</td>\n",
              "      <td>Science and Society</td>\n",
              "      <td>Technology and Engineering</td>\n",
              "      <td>Join C2ST and Dr. Jeanette Bartley for our mon...</td>\n",
              "    </tr>\n",
              "    <tr>\n",
              "      <th>308</th>\n",
              "      <td>309</td>\n",
              "      <td>Nanoengineered Materials and Thermal Engineeri...</td>\n",
              "      <td>https://www.c2st.org/event/nanoengineered-mate...</td>\n",
              "      <td>2021-04-14</td>\n",
              "      <td>Wednesday</td>\n",
              "      <td>3:30pm</td>\n",
              "      <td>4:45pm</td>\n",
              "      <td>Illinois Tech YouTube Channel</td>\n",
              "      <td>NaN</td>\n",
              "      <td>https://www.youtube.com/watch?v=yqGb5NfthIA</td>\n",
              "      <td>Technology and Engineering</td>\n",
              "      <td>NaN</td>\n",
              "      <td>This program is part of the IIT Distinguished ...</td>\n",
              "    </tr>\n",
              "    <tr>\n",
              "      <th>309</th>\n",
              "      <td>310</td>\n",
              "      <td>A Window into Science 2021</td>\n",
              "      <td>https://www.c2st.org/event/a-window-into-scien...</td>\n",
              "      <td>2021-04-15</td>\n",
              "      <td>Thursday</td>\n",
              "      <td>4:00pm</td>\n",
              "      <td>NaN</td>\n",
              "      <td>Virtual</td>\n",
              "      <td>https://www.eventbrite.com/e/a-window-into-sci...</td>\n",
              "      <td>NaN</td>\n",
              "      <td>NaN</td>\n",
              "      <td>NaN</td>\n",
              "      <td>You are cordially invited to “A Window Into Sc...</td>\n",
              "    </tr>\n",
              "    <tr>\n",
              "      <th>310</th>\n",
              "      <td>311</td>\n",
              "      <td>Working Together to Keep the Lakes Great</td>\n",
              "      <td>https://www.c2st.org/event/working-together-to...</td>\n",
              "      <td>2021-04-29</td>\n",
              "      <td>Thursday</td>\n",
              "      <td>5:00pm</td>\n",
              "      <td>6:00pm</td>\n",
              "      <td>Facebook Live and C2ST YouTube TV</td>\n",
              "      <td>https://www.eventbrite.com/e/working-together-...</td>\n",
              "      <td>NaN</td>\n",
              "      <td>Climate, Energy, and Environment</td>\n",
              "      <td>Science and Society</td>\n",
              "      <td>Here’s a trivia question: what contains 20% of...</td>\n",
              "    </tr>\n",
              "    <tr>\n",
              "      <th>311</th>\n",
              "      <td>312</td>\n",
              "      <td>Here to There: The History &amp; Future of Chicago...</td>\n",
              "      <td>https://www.c2st.org/event/here-to-there-the-h...</td>\n",
              "      <td>2021-05-03</td>\n",
              "      <td>Monday</td>\n",
              "      <td>5:00pm</td>\n",
              "      <td>6:00pm</td>\n",
              "      <td>Facebook Live and C2ST YouTube TV</td>\n",
              "      <td>https://www.eventbrite.com/e/here-to-there-the...</td>\n",
              "      <td>NaN</td>\n",
              "      <td>Climate, Energy, and Environment</td>\n",
              "      <td>Technology and Engineering</td>\n",
              "      <td>Chicago has a rich history of public transport...</td>\n",
              "    </tr>\n",
              "    <tr>\n",
              "      <th>312</th>\n",
              "      <td>313</td>\n",
              "      <td>Science and Sandwiches featuring Darion Crawford</td>\n",
              "      <td>https://www.c2st.org/event/science-and-sandwic...</td>\n",
              "      <td>2021-05-07</td>\n",
              "      <td>Friday</td>\n",
              "      <td>12:15pm</td>\n",
              "      <td>12:45pm</td>\n",
              "      <td>Zoom</td>\n",
              "      <td>https://www.eventbrite.com/e/science-and-sandw...</td>\n",
              "      <td>NaN</td>\n",
              "      <td>Life Science</td>\n",
              "      <td>Science and Society</td>\n",
              "      <td>Join C2ST and Darion Crawford for our monthly ...</td>\n",
              "    </tr>\n",
              "    <tr>\n",
              "      <th>313</th>\n",
              "      <td>314</td>\n",
              "      <td>Mental Help: Impacts of Loneliness &amp; Social Is...</td>\n",
              "      <td>https://www.c2st.org/event/mental-help-impacts...</td>\n",
              "      <td>2021-05-25</td>\n",
              "      <td>Tuesday</td>\n",
              "      <td>5:00pm</td>\n",
              "      <td>6:00pm</td>\n",
              "      <td>Facebook Live and C2ST YouTube TV</td>\n",
              "      <td>https://www.eventbrite.com/e/mental-help-impac...</td>\n",
              "      <td>NaN</td>\n",
              "      <td>Health and Wellness</td>\n",
              "      <td>Science and Society</td>\n",
              "      <td>Approximately one-quarter of community-dwellin...</td>\n",
              "    </tr>\n",
              "    <tr>\n",
              "      <th>314</th>\n",
              "      <td>315</td>\n",
              "      <td>Building Equity: Sustaining BIPOC in STEM</td>\n",
              "      <td>https://www.c2st.org/event/building-equity-sus...</td>\n",
              "      <td>2021-06-10</td>\n",
              "      <td>Thursday</td>\n",
              "      <td>4:00pm</td>\n",
              "      <td>4:45pm</td>\n",
              "      <td>Facebook Live and C2ST YouTube TV</td>\n",
              "      <td>https://www.eventbrite.com/e/building-equity-s...</td>\n",
              "      <td>NaN</td>\n",
              "      <td>NaN</td>\n",
              "      <td>NaN</td>\n",
              "      <td>Dr. Ruby Mendenhall and Students from Perspect...</td>\n",
              "    </tr>\n",
              "  </tbody>\n",
              "</table>\n",
              "</div>"
            ],
            "text/plain": [
              "     event_no  ...                                        description\n",
              "305       306  ...  On International Whiskey Day, join C2ST and KO...\n",
              "306       307  ...  Dr. Jaleel Abdul-Adil (University of Illinois)...\n",
              "307       308  ...  Join C2ST and Dr. Jeanette Bartley for our mon...\n",
              "308       309  ...  This program is part of the IIT Distinguished ...\n",
              "309       310  ...  You are cordially invited to “A Window Into Sc...\n",
              "310       311  ...  Here’s a trivia question: what contains 20% of...\n",
              "311       312  ...  Chicago has a rich history of public transport...\n",
              "312       313  ...  Join C2ST and Darion Crawford for our monthly ...\n",
              "313       314  ...  Approximately one-quarter of community-dwellin...\n",
              "314       315  ...  Dr. Ruby Mendenhall and Students from Perspect...\n",
              "\n",
              "[10 rows x 13 columns]"
            ]
          },
          "metadata": {
            "tags": []
          },
          "execution_count": 3
        }
      ]
    },
    {
      "cell_type": "code",
      "metadata": {
        "colab": {
          "base_uri": "https://localhost:8080/",
          "height": 623
        },
        "id": "8vekfI1icWU2",
        "outputId": "2dac2fb2-203b-45ec-9546-4cbf5bdf1e29"
      },
      "source": [
        "fig1 , ax1 = plt.subplots(figsize=(10,10))\n",
        "ax1 = sns.countplot(data=events, x='day_of_week', hue='primary_series')\n",
        "ax1.legend(bbox_to_anchor=(1,1), loc=2, borderaxespad=0)"
      ],
      "execution_count": null,
      "outputs": [
        {
          "output_type": "execute_result",
          "data": {
            "text/plain": [
              "<matplotlib.legend.Legend at 0x7f3143ce0a10>"
            ]
          },
          "metadata": {
            "tags": []
          },
          "execution_count": 13
        },
        {
          "output_type": "display_data",
          "data": {
            "image/png": "[encoded data removed]",
            "text/plain": [
              "<Figure size 720x720 with 1 Axes>"
            ]
          },
          "metadata": {
            "tags": [],
            "needs_background": "light"
          }
        }
      ]
    },
    {
      "cell_type": "code",
      "metadata": {
        "id": "J6kijp0UeQmV"
      },
      "source": [
        "c2storg = pd.read_excel('/content/master_webdata_file.xlsx', sheet_name='c2st_org')\n",
        "eventbrite = pd.read_excel('/content/master_webdata_file.xlsx', sheet_name='eventbrite')\n",
        "youtube = pd.read_excel('/content/master_webdata_file.xlsx', sheet_name='youtube')"
      ],
      "execution_count": null,
      "outputs": []
    },
    {
      "cell_type": "code",
      "metadata": {
        "colab": {
          "base_uri": "https://localhost:8080/"
        },
        "id": "8mbNEEg2wc35",
        "outputId": "d514e59d-6a88-43b2-a9bb-a90be0880e4b"
      },
      "source": [
        "eventbrite.shape"
      ],
      "execution_count": null,
      "outputs": [
        {
          "output_type": "execute_result",
          "data": {
            "text/plain": [
              "(24, 5)"
            ]
          },
          "metadata": {
            "tags": []
          },
          "execution_count": 97
        }
      ]
    },
    {
      "cell_type": "code",
      "metadata": {
        "colab": {
          "base_uri": "https://localhost:8080/",
          "height": 496
        },
        "id": "rfSJYyE9faHs",
        "outputId": "fa7946bd-7e26-4321-fa23-27ace69c61bd"
      },
      "source": [
        "events_merged = pd.merge(events, c2storg, how='inner', on='event_no')\n",
        "events_merged = pd.merge(events_merged, youtube, how='inner', on='event_no')\n",
        "events_merged['title_len'] = events_merged.title.apply(len)\n",
        "events_merged['weekday_num'] = events_merged.day_of_week.replace(['Monday', 'Tuesday', 'Wednesday', 'Thursday', 'Friday', 'Saturday', 'Sunday'], [1, 2, 3, 4, 5, 6, 7])\n",
        "events_merged['series_num'] = events_merged.primary_series.replace(['Physical Science', 'Science and Society', 'Life Science', 'Climate, Energy, and Environment', 'Health and Wellness', 'Technology and Engineering'],\n",
        "                                                                [1, 2, 3, 4, 5, 6])\n",
        "events_merged.head()"
      ],
      "execution_count": null,
      "outputs": [
        {
          "output_type": "execute_result",
          "data": {
            "text/html": [
              "<div>\n",
              "<style scoped>\n",
              "    .dataframe tbody tr th:only-of-type {\n",
              "        vertical-align: middle;\n",
              "    }\n",
              "\n",
              "    .dataframe tbody tr th {\n",
              "        vertical-align: top;\n",
              "    }\n",
              "\n",
              "    .dataframe thead th {\n",
              "        text-align: right;\n",
              "    }\n",
              "</style>\n",
              "<table border=\"1\" class=\"dataframe\">\n",
              "  <thead>\n",
              "    <tr style=\"text-align: right;\">\n",
              "      <th></th>\n",
              "      <th>event_no</th>\n",
              "      <th>title</th>\n",
              "      <th>url</th>\n",
              "      <th>date</th>\n",
              "      <th>day_of_week</th>\n",
              "      <th>start_time</th>\n",
              "      <th>end_time</th>\n",
              "      <th>location</th>\n",
              "      <th>eventbrite_url</th>\n",
              "      <th>third_party_url</th>\n",
              "      <th>primary_series</th>\n",
              "      <th>secondary_series</th>\n",
              "      <th>description</th>\n",
              "      <th>c2st_event_page_title</th>\n",
              "      <th>pageviews</th>\n",
              "      <th>avg_time_on_page</th>\n",
              "      <th>bounce_rate</th>\n",
              "      <th>lev_dist_x</th>\n",
              "      <th>yt_video_title</th>\n",
              "      <th>views</th>\n",
              "      <th>percent_change</th>\n",
              "      <th>lev_dist_y</th>\n",
              "      <th>title_len</th>\n",
              "      <th>weekday_num</th>\n",
              "      <th>series_num</th>\n",
              "    </tr>\n",
              "  </thead>\n",
              "  <tbody>\n",
              "    <tr>\n",
              "      <th>0</th>\n",
              "      <td>22</td>\n",
              "      <td>Hubble’s Story</td>\n",
              "      <td>https://www.c2st.org/event/hubbles-story-2/</td>\n",
              "      <td>2009-10-28</td>\n",
              "      <td>Wednesday</td>\n",
              "      <td>NaN</td>\n",
              "      <td>NaN</td>\n",
              "      <td>School of the Art Institute of Chicago, SAIC B...</td>\n",
              "      <td>NaN</td>\n",
              "      <td>NaN</td>\n",
              "      <td>Physical Science</td>\n",
              "      <td>NaN</td>\n",
              "      <td>In May 2009, NASA astronaut and University of ...</td>\n",
              "      <td>Hubble's Story | The Chicago Council on Scienc...</td>\n",
              "      <td>1</td>\n",
              "      <td>NaN</td>\n",
              "      <td>1.0</td>\n",
              "      <td>90</td>\n",
              "      <td>Hubble's Story - John Grunsfeld</td>\n",
              "      <td>1</td>\n",
              "      <td>0.000000</td>\n",
              "      <td>90</td>\n",
              "      <td>14</td>\n",
              "      <td>3</td>\n",
              "      <td>1</td>\n",
              "    </tr>\n",
              "    <tr>\n",
              "      <th>1</th>\n",
              "      <td>58</td>\n",
              "      <td>FRACKING – the quest for energy independence</td>\n",
              "      <td>https://www.c2st.org/event/fracking-the-quest-...</td>\n",
              "      <td>2012-01-19</td>\n",
              "      <td>Thursday</td>\n",
              "      <td>NaN</td>\n",
              "      <td>NaN</td>\n",
              "      <td>Northwestern University, Chicago Campus, Hughe...</td>\n",
              "      <td>NaN</td>\n",
              "      <td>NaN</td>\n",
              "      <td>Climate, Energy, and Environment</td>\n",
              "      <td>NaN</td>\n",
              "      <td>Abstract: \\nFracking is a step in the producti...</td>\n",
              "      <td>FRACKING - the quest for energy independence |...</td>\n",
              "      <td>3</td>\n",
              "      <td>165.0</td>\n",
              "      <td>0.5</td>\n",
              "      <td>90</td>\n",
              "      <td>FRACKING - the quest for energy independence -...</td>\n",
              "      <td>1</td>\n",
              "      <td>NaN</td>\n",
              "      <td>90</td>\n",
              "      <td>44</td>\n",
              "      <td>4</td>\n",
              "      <td>4</td>\n",
              "    </tr>\n",
              "    <tr>\n",
              "      <th>2</th>\n",
              "      <td>58</td>\n",
              "      <td>FRACKING – the quest for energy independence</td>\n",
              "      <td>https://www.c2st.org/event/fracking-the-quest-...</td>\n",
              "      <td>2012-01-19</td>\n",
              "      <td>Thursday</td>\n",
              "      <td>NaN</td>\n",
              "      <td>NaN</td>\n",
              "      <td>Northwestern University, Chicago Campus, Hughe...</td>\n",
              "      <td>NaN</td>\n",
              "      <td>NaN</td>\n",
              "      <td>Climate, Energy, and Environment</td>\n",
              "      <td>NaN</td>\n",
              "      <td>Abstract: \\nFracking is a step in the producti...</td>\n",
              "      <td>FRACKING – the quest for energy independence |...</td>\n",
              "      <td>2</td>\n",
              "      <td>NaN</td>\n",
              "      <td>1.0</td>\n",
              "      <td>90</td>\n",
              "      <td>FRACKING - the quest for energy independence -...</td>\n",
              "      <td>1</td>\n",
              "      <td>NaN</td>\n",
              "      <td>90</td>\n",
              "      <td>44</td>\n",
              "      <td>4</td>\n",
              "      <td>4</td>\n",
              "    </tr>\n",
              "    <tr>\n",
              "      <th>3</th>\n",
              "      <td>65</td>\n",
              "      <td>CERN: What’s it all about?</td>\n",
              "      <td>https://www.c2st.org/event/cern-whats-it-all-a...</td>\n",
              "      <td>2012-05-01</td>\n",
              "      <td>Tuesday</td>\n",
              "      <td>NaN</td>\n",
              "      <td>NaN</td>\n",
              "      <td>Chicago Club, Mezzanine leve</td>\n",
              "      <td>NaN</td>\n",
              "      <td>NaN</td>\n",
              "      <td>Physical Science</td>\n",
              "      <td>NaN</td>\n",
              "      <td>Abstract: \\nSome scientists believe that the H...</td>\n",
              "      <td>CERN: What’s it all about? | The Chicago Counc...</td>\n",
              "      <td>1</td>\n",
              "      <td>NaN</td>\n",
              "      <td>1.0</td>\n",
              "      <td>90</td>\n",
              "      <td>CERN: What's it all about? 5/1/12 - Young- Kee...</td>\n",
              "      <td>4</td>\n",
              "      <td>-0.636364</td>\n",
              "      <td>90</td>\n",
              "      <td>26</td>\n",
              "      <td>2</td>\n",
              "      <td>1</td>\n",
              "    </tr>\n",
              "    <tr>\n",
              "      <th>4</th>\n",
              "      <td>76</td>\n",
              "      <td>Bioluminescence: Living Lights, Lights for Living</td>\n",
              "      <td>https://www.c2st.org/event/bioluminescence-liv...</td>\n",
              "      <td>2013-02-21</td>\n",
              "      <td>Thursday</td>\n",
              "      <td>NaN</td>\n",
              "      <td>NaN</td>\n",
              "      <td>McDermot, Will &amp; Emery</td>\n",
              "      <td>NaN</td>\n",
              "      <td>NaN</td>\n",
              "      <td>Life Science</td>\n",
              "      <td>NaN</td>\n",
              "      <td>Bioluminescence is everywhere on earth—most of...</td>\n",
              "      <td>Bioluminescence: Living Lights, Lights for Liv...</td>\n",
              "      <td>2</td>\n",
              "      <td>NaN</td>\n",
              "      <td>1.0</td>\n",
              "      <td>90</td>\n",
              "      <td>Bioluminescence: Living Lights, Lights for Liv...</td>\n",
              "      <td>13</td>\n",
              "      <td>1.166667</td>\n",
              "      <td>90</td>\n",
              "      <td>49</td>\n",
              "      <td>4</td>\n",
              "      <td>3</td>\n",
              "    </tr>\n",
              "  </tbody>\n",
              "</table>\n",
              "</div>"
            ],
            "text/plain": [
              "   event_no  ... series_num\n",
              "0        22  ...          1\n",
              "1        58  ...          4\n",
              "2        58  ...          4\n",
              "3        65  ...          1\n",
              "4        76  ...          3\n",
              "\n",
              "[5 rows x 25 columns]"
            ]
          },
          "metadata": {
            "tags": []
          },
          "execution_count": 33
        }
      ]
    },
    {
      "cell_type": "code",
      "metadata": {
        "colab": {
          "base_uri": "https://localhost:8080/",
          "height": 419
        },
        "id": "-ltpnb2ogAEI",
        "outputId": "fae84dce-44ac-4101-8ada-c20b02ac9e80"
      },
      "source": [
        "events_df = events_merged[['event_no', 'title_len', 'date', 'weekday_num', 'start_time', 'end_time', 'location', 'series_num', 'pageviews', 'bounce_rate', 'views']]\n",
        "events_df"
      ],
      "execution_count": null,
      "outputs": [
        {
          "output_type": "execute_result",
          "data": {
            "text/html": [
              "<div>\n",
              "<style scoped>\n",
              "    .dataframe tbody tr th:only-of-type {\n",
              "        vertical-align: middle;\n",
              "    }\n",
              "\n",
              "    .dataframe tbody tr th {\n",
              "        vertical-align: top;\n",
              "    }\n",
              "\n",
              "    .dataframe thead th {\n",
              "        text-align: right;\n",
              "    }\n",
              "</style>\n",
              "<table border=\"1\" class=\"dataframe\">\n",
              "  <thead>\n",
              "    <tr style=\"text-align: right;\">\n",
              "      <th></th>\n",
              "      <th>event_no</th>\n",
              "      <th>title_len</th>\n",
              "      <th>date</th>\n",
              "      <th>weekday_num</th>\n",
              "      <th>start_time</th>\n",
              "      <th>end_time</th>\n",
              "      <th>location</th>\n",
              "      <th>series_num</th>\n",
              "      <th>pageviews</th>\n",
              "      <th>bounce_rate</th>\n",
              "      <th>views</th>\n",
              "    </tr>\n",
              "  </thead>\n",
              "  <tbody>\n",
              "    <tr>\n",
              "      <th>0</th>\n",
              "      <td>22</td>\n",
              "      <td>14</td>\n",
              "      <td>2009-10-28</td>\n",
              "      <td>3</td>\n",
              "      <td>NaN</td>\n",
              "      <td>NaN</td>\n",
              "      <td>School of the Art Institute of Chicago, SAIC B...</td>\n",
              "      <td>1</td>\n",
              "      <td>1</td>\n",
              "      <td>1.000000</td>\n",
              "      <td>1</td>\n",
              "    </tr>\n",
              "    <tr>\n",
              "      <th>1</th>\n",
              "      <td>58</td>\n",
              "      <td>44</td>\n",
              "      <td>2012-01-19</td>\n",
              "      <td>4</td>\n",
              "      <td>NaN</td>\n",
              "      <td>NaN</td>\n",
              "      <td>Northwestern University, Chicago Campus, Hughe...</td>\n",
              "      <td>4</td>\n",
              "      <td>3</td>\n",
              "      <td>0.500000</td>\n",
              "      <td>1</td>\n",
              "    </tr>\n",
              "    <tr>\n",
              "      <th>2</th>\n",
              "      <td>58</td>\n",
              "      <td>44</td>\n",
              "      <td>2012-01-19</td>\n",
              "      <td>4</td>\n",
              "      <td>NaN</td>\n",
              "      <td>NaN</td>\n",
              "      <td>Northwestern University, Chicago Campus, Hughe...</td>\n",
              "      <td>4</td>\n",
              "      <td>2</td>\n",
              "      <td>1.000000</td>\n",
              "      <td>1</td>\n",
              "    </tr>\n",
              "    <tr>\n",
              "      <th>3</th>\n",
              "      <td>65</td>\n",
              "      <td>26</td>\n",
              "      <td>2012-05-01</td>\n",
              "      <td>2</td>\n",
              "      <td>NaN</td>\n",
              "      <td>NaN</td>\n",
              "      <td>Chicago Club, Mezzanine leve</td>\n",
              "      <td>1</td>\n",
              "      <td>1</td>\n",
              "      <td>1.000000</td>\n",
              "      <td>4</td>\n",
              "    </tr>\n",
              "    <tr>\n",
              "      <th>4</th>\n",
              "      <td>76</td>\n",
              "      <td>49</td>\n",
              "      <td>2013-02-21</td>\n",
              "      <td>4</td>\n",
              "      <td>NaN</td>\n",
              "      <td>NaN</td>\n",
              "      <td>McDermot, Will &amp; Emery</td>\n",
              "      <td>3</td>\n",
              "      <td>2</td>\n",
              "      <td>1.000000</td>\n",
              "      <td>13</td>\n",
              "    </tr>\n",
              "    <tr>\n",
              "      <th>...</th>\n",
              "      <td>...</td>\n",
              "      <td>...</td>\n",
              "      <td>...</td>\n",
              "      <td>...</td>\n",
              "      <td>...</td>\n",
              "      <td>...</td>\n",
              "      <td>...</td>\n",
              "      <td>...</td>\n",
              "      <td>...</td>\n",
              "      <td>...</td>\n",
              "      <td>...</td>\n",
              "    </tr>\n",
              "    <tr>\n",
              "      <th>62</th>\n",
              "      <td>302</td>\n",
              "      <td>49</td>\n",
              "      <td>2021-03-01</td>\n",
              "      <td>1</td>\n",
              "      <td>4:00pm</td>\n",
              "      <td>5:00pm</td>\n",
              "      <td>Facebook Live and C2ST YouTube TV</td>\n",
              "      <td>5</td>\n",
              "      <td>1</td>\n",
              "      <td>1.000000</td>\n",
              "      <td>8</td>\n",
              "    </tr>\n",
              "    <tr>\n",
              "      <th>63</th>\n",
              "      <td>304</td>\n",
              "      <td>32</td>\n",
              "      <td>2021-03-11</td>\n",
              "      <td>4</td>\n",
              "      <td>4:00pm</td>\n",
              "      <td>4:45pm</td>\n",
              "      <td>Facebook Live and C2ST YouTube TV</td>\n",
              "      <td>5</td>\n",
              "      <td>2</td>\n",
              "      <td>0.500000</td>\n",
              "      <td>4</td>\n",
              "    </tr>\n",
              "    <tr>\n",
              "      <th>64</th>\n",
              "      <td>305</td>\n",
              "      <td>54</td>\n",
              "      <td>2021-03-22</td>\n",
              "      <td>1</td>\n",
              "      <td>12:00pm</td>\n",
              "      <td>1:00pm</td>\n",
              "      <td>Facebook Live and C2ST YouTube TV</td>\n",
              "      <td>5</td>\n",
              "      <td>1</td>\n",
              "      <td>1.000000</td>\n",
              "      <td>17</td>\n",
              "    </tr>\n",
              "    <tr>\n",
              "      <th>65</th>\n",
              "      <td>306</td>\n",
              "      <td>57</td>\n",
              "      <td>2021-03-27</td>\n",
              "      <td>6</td>\n",
              "      <td>5:00pm</td>\n",
              "      <td>6:00pm</td>\n",
              "      <td>Facebook Live and C2ST YouTube TV</td>\n",
              "      <td>2</td>\n",
              "      <td>1</td>\n",
              "      <td>1.000000</td>\n",
              "      <td>78</td>\n",
              "    </tr>\n",
              "    <tr>\n",
              "      <th>66</th>\n",
              "      <td>307</td>\n",
              "      <td>71</td>\n",
              "      <td>2021-03-29</td>\n",
              "      <td>1</td>\n",
              "      <td>11:00am</td>\n",
              "      <td>12:00am</td>\n",
              "      <td>NaN</td>\n",
              "      <td>5</td>\n",
              "      <td>44</td>\n",
              "      <td>0.914286</td>\n",
              "      <td>27</td>\n",
              "    </tr>\n",
              "  </tbody>\n",
              "</table>\n",
              "<p>67 rows × 11 columns</p>\n",
              "</div>"
            ],
            "text/plain": [
              "    event_no  title_len        date  ...  pageviews bounce_rate views\n",
              "0         22         14  2009-10-28  ...          1    1.000000     1\n",
              "1         58         44  2012-01-19  ...          3    0.500000     1\n",
              "2         58         44  2012-01-19  ...          2    1.000000     1\n",
              "3         65         26  2012-05-01  ...          1    1.000000     4\n",
              "4         76         49  2013-02-21  ...          2    1.000000    13\n",
              "..       ...        ...         ...  ...        ...         ...   ...\n",
              "62       302         49  2021-03-01  ...          1    1.000000     8\n",
              "63       304         32  2021-03-11  ...          2    0.500000     4\n",
              "64       305         54  2021-03-22  ...          1    1.000000    17\n",
              "65       306         57  2021-03-27  ...          1    1.000000    78\n",
              "66       307         71  2021-03-29  ...         44    0.914286    27\n",
              "\n",
              "[67 rows x 11 columns]"
            ]
          },
          "metadata": {
            "tags": []
          },
          "execution_count": 34
        }
      ]
    },
    {
      "cell_type": "code",
      "metadata": {
        "colab": {
          "base_uri": "https://localhost:8080/",
          "height": 419
        },
        "id": "id2LZFu2jxki",
        "outputId": "63e36764-d534-4d12-f968-8c38a5c40af1"
      },
      "source": [
        "events_dfna = events_df.isna()\n",
        "events_dfna[events_dfna['start_time'] == True].shape # 26/67\n",
        "events_dfna[events_dfna['end_time'] == True].shape # 26/67\n",
        "event_features = events_df.drop(['date', 'start_time', 'end_time', 'location'], axis=1)\n"
      ],
      "execution_count": null,
      "outputs": [
        {
          "output_type": "execute_result",
          "data": {
            "text/html": [
              "<div>\n",
              "<style scoped>\n",
              "    .dataframe tbody tr th:only-of-type {\n",
              "        vertical-align: middle;\n",
              "    }\n",
              "\n",
              "    .dataframe tbody tr th {\n",
              "        vertical-align: top;\n",
              "    }\n",
              "\n",
              "    .dataframe thead th {\n",
              "        text-align: right;\n",
              "    }\n",
              "</style>\n",
              "<table border=\"1\" class=\"dataframe\">\n",
              "  <thead>\n",
              "    <tr style=\"text-align: right;\">\n",
              "      <th></th>\n",
              "      <th>event_no</th>\n",
              "      <th>title_len</th>\n",
              "      <th>date</th>\n",
              "      <th>weekday_num</th>\n",
              "      <th>start_time</th>\n",
              "      <th>end_time</th>\n",
              "      <th>location</th>\n",
              "      <th>series_num</th>\n",
              "      <th>pageviews</th>\n",
              "      <th>bounce_rate</th>\n",
              "      <th>views</th>\n",
              "    </tr>\n",
              "  </thead>\n",
              "  <tbody>\n",
              "    <tr>\n",
              "      <th>0</th>\n",
              "      <td>False</td>\n",
              "      <td>False</td>\n",
              "      <td>False</td>\n",
              "      <td>False</td>\n",
              "      <td>True</td>\n",
              "      <td>True</td>\n",
              "      <td>False</td>\n",
              "      <td>False</td>\n",
              "      <td>False</td>\n",
              "      <td>False</td>\n",
              "      <td>False</td>\n",
              "    </tr>\n",
              "    <tr>\n",
              "      <th>1</th>\n",
              "      <td>False</td>\n",
              "      <td>False</td>\n",
              "      <td>False</td>\n",
              "      <td>False</td>\n",
              "      <td>True</td>\n",
              "      <td>True</td>\n",
              "      <td>False</td>\n",
              "      <td>False</td>\n",
              "      <td>False</td>\n",
              "      <td>False</td>\n",
              "      <td>False</td>\n",
              "    </tr>\n",
              "    <tr>\n",
              "      <th>2</th>\n",
              "      <td>False</td>\n",
              "      <td>False</td>\n",
              "      <td>False</td>\n",
              "      <td>False</td>\n",
              "      <td>True</td>\n",
              "      <td>True</td>\n",
              "      <td>False</td>\n",
              "      <td>False</td>\n",
              "      <td>False</td>\n",
              "      <td>False</td>\n",
              "      <td>False</td>\n",
              "    </tr>\n",
              "    <tr>\n",
              "      <th>3</th>\n",
              "      <td>False</td>\n",
              "      <td>False</td>\n",
              "      <td>False</td>\n",
              "      <td>False</td>\n",
              "      <td>True</td>\n",
              "      <td>True</td>\n",
              "      <td>False</td>\n",
              "      <td>False</td>\n",
              "      <td>False</td>\n",
              "      <td>False</td>\n",
              "      <td>False</td>\n",
              "    </tr>\n",
              "    <tr>\n",
              "      <th>4</th>\n",
              "      <td>False</td>\n",
              "      <td>False</td>\n",
              "      <td>False</td>\n",
              "      <td>False</td>\n",
              "      <td>True</td>\n",
              "      <td>True</td>\n",
              "      <td>False</td>\n",
              "      <td>False</td>\n",
              "      <td>False</td>\n",
              "      <td>False</td>\n",
              "      <td>False</td>\n",
              "    </tr>\n",
              "    <tr>\n",
              "      <th>...</th>\n",
              "      <td>...</td>\n",
              "      <td>...</td>\n",
              "      <td>...</td>\n",
              "      <td>...</td>\n",
              "      <td>...</td>\n",
              "      <td>...</td>\n",
              "      <td>...</td>\n",
              "      <td>...</td>\n",
              "      <td>...</td>\n",
              "      <td>...</td>\n",
              "      <td>...</td>\n",
              "    </tr>\n",
              "    <tr>\n",
              "      <th>62</th>\n",
              "      <td>False</td>\n",
              "      <td>False</td>\n",
              "      <td>False</td>\n",
              "      <td>False</td>\n",
              "      <td>False</td>\n",
              "      <td>False</td>\n",
              "      <td>False</td>\n",
              "      <td>False</td>\n",
              "      <td>False</td>\n",
              "      <td>False</td>\n",
              "      <td>False</td>\n",
              "    </tr>\n",
              "    <tr>\n",
              "      <th>63</th>\n",
              "      <td>False</td>\n",
              "      <td>False</td>\n",
              "      <td>False</td>\n",
              "      <td>False</td>\n",
              "      <td>False</td>\n",
              "      <td>False</td>\n",
              "      <td>False</td>\n",
              "      <td>False</td>\n",
              "      <td>False</td>\n",
              "      <td>False</td>\n",
              "      <td>False</td>\n",
              "    </tr>\n",
              "    <tr>\n",
              "      <th>64</th>\n",
              "      <td>False</td>\n",
              "      <td>False</td>\n",
              "      <td>False</td>\n",
              "      <td>False</td>\n",
              "      <td>False</td>\n",
              "      <td>False</td>\n",
              "      <td>False</td>\n",
              "      <td>False</td>\n",
              "      <td>False</td>\n",
              "      <td>False</td>\n",
              "      <td>False</td>\n",
              "    </tr>\n",
              "    <tr>\n",
              "      <th>65</th>\n",
              "      <td>False</td>\n",
              "      <td>False</td>\n",
              "      <td>False</td>\n",
              "      <td>False</td>\n",
              "      <td>False</td>\n",
              "      <td>False</td>\n",
              "      <td>False</td>\n",
              "      <td>False</td>\n",
              "      <td>False</td>\n",
              "      <td>False</td>\n",
              "      <td>False</td>\n",
              "    </tr>\n",
              "    <tr>\n",
              "      <th>66</th>\n",
              "      <td>False</td>\n",
              "      <td>False</td>\n",
              "      <td>False</td>\n",
              "      <td>False</td>\n",
              "      <td>False</td>\n",
              "      <td>False</td>\n",
              "      <td>True</td>\n",
              "      <td>False</td>\n",
              "      <td>False</td>\n",
              "      <td>False</td>\n",
              "      <td>False</td>\n",
              "    </tr>\n",
              "  </tbody>\n",
              "</table>\n",
              "<p>67 rows × 11 columns</p>\n",
              "</div>"
            ],
            "text/plain": [
              "    event_no  title_len   date  ...  pageviews  bounce_rate  views\n",
              "0      False      False  False  ...      False        False  False\n",
              "1      False      False  False  ...      False        False  False\n",
              "2      False      False  False  ...      False        False  False\n",
              "3      False      False  False  ...      False        False  False\n",
              "4      False      False  False  ...      False        False  False\n",
              "..       ...        ...    ...  ...        ...          ...    ...\n",
              "62     False      False  False  ...      False        False  False\n",
              "63     False      False  False  ...      False        False  False\n",
              "64     False      False  False  ...      False        False  False\n",
              "65     False      False  False  ...      False        False  False\n",
              "66     False      False  False  ...      False        False  False\n",
              "\n",
              "[67 rows x 11 columns]"
            ]
          },
          "metadata": {
            "tags": []
          },
          "execution_count": 68
        }
      ]
    },
    {
      "cell_type": "code",
      "metadata": {
        "colab": {
          "base_uri": "https://localhost:8080/",
          "height": 173
        },
        "id": "Afov02VInrtt",
        "outputId": "db6888a0-7695-4e2f-8943-9b62f56330a6"
      },
      "source": [
        "features_na = event_features.isna()\n",
        "features_na[features_na['bounce_rate'] == True]\n"
      ],
      "execution_count": null,
      "outputs": [
        {
          "output_type": "execute_result",
          "data": {
            "text/html": [
              "<div>\n",
              "<style scoped>\n",
              "    .dataframe tbody tr th:only-of-type {\n",
              "        vertical-align: middle;\n",
              "    }\n",
              "\n",
              "    .dataframe tbody tr th {\n",
              "        vertical-align: top;\n",
              "    }\n",
              "\n",
              "    .dataframe thead th {\n",
              "        text-align: right;\n",
              "    }\n",
              "</style>\n",
              "<table border=\"1\" class=\"dataframe\">\n",
              "  <thead>\n",
              "    <tr style=\"text-align: right;\">\n",
              "      <th></th>\n",
              "      <th>event_no</th>\n",
              "      <th>title_len</th>\n",
              "      <th>weekday_num</th>\n",
              "      <th>series_num</th>\n",
              "      <th>pageviews</th>\n",
              "      <th>bounce_rate</th>\n",
              "      <th>views</th>\n",
              "    </tr>\n",
              "  </thead>\n",
              "  <tbody>\n",
              "    <tr>\n",
              "      <th>48</th>\n",
              "      <td>False</td>\n",
              "      <td>False</td>\n",
              "      <td>False</td>\n",
              "      <td>False</td>\n",
              "      <td>False</td>\n",
              "      <td>True</td>\n",
              "      <td>False</td>\n",
              "    </tr>\n",
              "    <tr>\n",
              "      <th>54</th>\n",
              "      <td>False</td>\n",
              "      <td>False</td>\n",
              "      <td>False</td>\n",
              "      <td>False</td>\n",
              "      <td>False</td>\n",
              "      <td>True</td>\n",
              "      <td>False</td>\n",
              "    </tr>\n",
              "    <tr>\n",
              "      <th>58</th>\n",
              "      <td>False</td>\n",
              "      <td>False</td>\n",
              "      <td>False</td>\n",
              "      <td>False</td>\n",
              "      <td>False</td>\n",
              "      <td>True</td>\n",
              "      <td>False</td>\n",
              "    </tr>\n",
              "    <tr>\n",
              "      <th>61</th>\n",
              "      <td>False</td>\n",
              "      <td>False</td>\n",
              "      <td>False</td>\n",
              "      <td>False</td>\n",
              "      <td>False</td>\n",
              "      <td>True</td>\n",
              "      <td>False</td>\n",
              "    </tr>\n",
              "  </tbody>\n",
              "</table>\n",
              "</div>"
            ],
            "text/plain": [
              "    event_no  title_len  weekday_num  series_num  pageviews  bounce_rate  views\n",
              "48     False      False        False       False      False         True  False\n",
              "54     False      False        False       False      False         True  False\n",
              "58     False      False        False       False      False         True  False\n",
              "61     False      False        False       False      False         True  False"
            ]
          },
          "metadata": {
            "tags": []
          },
          "execution_count": 73
        }
      ]
    },
    {
      "cell_type": "code",
      "metadata": {
        "id": "6uru4946oAd4"
      },
      "source": [
        "event_features.fillna(value=0, inplace=True)"
      ],
      "execution_count": null,
      "outputs": []
    },
    {
      "cell_type": "code",
      "metadata": {
        "colab": {
          "base_uri": "https://localhost:8080/",
          "height": 297
        },
        "id": "LWA91hX4hWs0",
        "outputId": "64120187-5cdb-47cd-e1a1-c13ac1f45484"
      },
      "source": [
        "event_features.describe()"
      ],
      "execution_count": null,
      "outputs": [
        {
          "output_type": "execute_result",
          "data": {
            "text/html": [
              "<div>\n",
              "<style scoped>\n",
              "    .dataframe tbody tr th:only-of-type {\n",
              "        vertical-align: middle;\n",
              "    }\n",
              "\n",
              "    .dataframe tbody tr th {\n",
              "        vertical-align: top;\n",
              "    }\n",
              "\n",
              "    .dataframe thead th {\n",
              "        text-align: right;\n",
              "    }\n",
              "</style>\n",
              "<table border=\"1\" class=\"dataframe\">\n",
              "  <thead>\n",
              "    <tr style=\"text-align: right;\">\n",
              "      <th></th>\n",
              "      <th>event_no</th>\n",
              "      <th>title_len</th>\n",
              "      <th>weekday_num</th>\n",
              "      <th>series_num</th>\n",
              "      <th>pageviews</th>\n",
              "      <th>bounce_rate</th>\n",
              "      <th>views</th>\n",
              "    </tr>\n",
              "  </thead>\n",
              "  <tbody>\n",
              "    <tr>\n",
              "      <th>count</th>\n",
              "      <td>67.000000</td>\n",
              "      <td>67.000000</td>\n",
              "      <td>67.000000</td>\n",
              "      <td>67.000000</td>\n",
              "      <td>67.000000</td>\n",
              "      <td>67.000000</td>\n",
              "      <td>67.000000</td>\n",
              "    </tr>\n",
              "    <tr>\n",
              "      <th>mean</th>\n",
              "      <td>209.298507</td>\n",
              "      <td>44.343284</td>\n",
              "      <td>3.164179</td>\n",
              "      <td>3.298507</td>\n",
              "      <td>5.149254</td>\n",
              "      <td>0.804860</td>\n",
              "      <td>16.970149</td>\n",
              "    </tr>\n",
              "    <tr>\n",
              "      <th>std</th>\n",
              "      <td>72.457723</td>\n",
              "      <td>18.534613</td>\n",
              "      <td>1.286256</td>\n",
              "      <td>1.557143</td>\n",
              "      <td>8.290655</td>\n",
              "      <td>0.346413</td>\n",
              "      <td>34.139629</td>\n",
              "    </tr>\n",
              "    <tr>\n",
              "      <th>min</th>\n",
              "      <td>22.000000</td>\n",
              "      <td>14.000000</td>\n",
              "      <td>1.000000</td>\n",
              "      <td>1.000000</td>\n",
              "      <td>1.000000</td>\n",
              "      <td>0.000000</td>\n",
              "      <td>0.000000</td>\n",
              "    </tr>\n",
              "    <tr>\n",
              "      <th>25%</th>\n",
              "      <td>161.000000</td>\n",
              "      <td>28.000000</td>\n",
              "      <td>2.000000</td>\n",
              "      <td>2.000000</td>\n",
              "      <td>1.000000</td>\n",
              "      <td>0.738636</td>\n",
              "      <td>1.500000</td>\n",
              "    </tr>\n",
              "    <tr>\n",
              "      <th>50%</th>\n",
              "      <td>217.000000</td>\n",
              "      <td>44.000000</td>\n",
              "      <td>3.000000</td>\n",
              "      <td>3.000000</td>\n",
              "      <td>2.000000</td>\n",
              "      <td>1.000000</td>\n",
              "      <td>4.000000</td>\n",
              "    </tr>\n",
              "    <tr>\n",
              "      <th>75%</th>\n",
              "      <td>276.500000</td>\n",
              "      <td>59.000000</td>\n",
              "      <td>4.000000</td>\n",
              "      <td>5.000000</td>\n",
              "      <td>4.000000</td>\n",
              "      <td>1.000000</td>\n",
              "      <td>14.000000</td>\n",
              "    </tr>\n",
              "    <tr>\n",
              "      <th>max</th>\n",
              "      <td>307.000000</td>\n",
              "      <td>76.000000</td>\n",
              "      <td>6.000000</td>\n",
              "      <td>6.000000</td>\n",
              "      <td>44.000000</td>\n",
              "      <td>1.000000</td>\n",
              "      <td>220.000000</td>\n",
              "    </tr>\n",
              "  </tbody>\n",
              "</table>\n",
              "</div>"
            ],
            "text/plain": [
              "         event_no  title_len  weekday_num  ...  pageviews  bounce_rate       views\n",
              "count   67.000000  67.000000    67.000000  ...  67.000000    67.000000   67.000000\n",
              "mean   209.298507  44.343284     3.164179  ...   5.149254     0.804860   16.970149\n",
              "std     72.457723  18.534613     1.286256  ...   8.290655     0.346413   34.139629\n",
              "min     22.000000  14.000000     1.000000  ...   1.000000     0.000000    0.000000\n",
              "25%    161.000000  28.000000     2.000000  ...   1.000000     0.738636    1.500000\n",
              "50%    217.000000  44.000000     3.000000  ...   2.000000     1.000000    4.000000\n",
              "75%    276.500000  59.000000     4.000000  ...   4.000000     1.000000   14.000000\n",
              "max    307.000000  76.000000     6.000000  ...  44.000000     1.000000  220.000000\n",
              "\n",
              "[8 rows x 7 columns]"
            ]
          },
          "metadata": {
            "tags": []
          },
          "execution_count": 75
        }
      ]
    },
    {
      "cell_type": "code",
      "metadata": {
        "colab": {
          "base_uri": "https://localhost:8080/",
          "height": 1000
        },
        "id": "7cO4RZafiAfo",
        "outputId": "5528f6ab-564b-4b7e-aa23-0ae1b660f6ea"
      },
      "source": [
        "event_features_pairplot = sns.pairplot(event_features)\n",
        "event_features_pairplot.savefig('feature_pairplot.png')"
      ],
      "execution_count": null,
      "outputs": [
        {
          "output_type": "display_data",
          "data": {
            "image/png": "[encoded data removed]",
            "text/plain": [
              "<Figure size 1260x1260 with 56 Axes>"
            ]
          },
          "metadata": {
            "tags": [],
            "needs_background": "light"
          }
        }
      ]
    },
    {
      "cell_type": "code",
      "metadata": {
        "colab": {
          "base_uri": "https://localhost:8080/",
          "height": 351
        },
        "id": "3qH7CJGgpLR3",
        "outputId": "e62395b8-3d44-4845-e9c7-dba21352b71e"
      },
      "source": [
        "len_bins = (0, 20, 40, 60, 80)\n",
        "len_cat_names = ['very short', 'short', 'long', 'very long']\n",
        "len_cats = pd.cut(event_features.title_len, len_bins, labels=len_cat_names)\n",
        "sns.countplot(len_cats)"
      ],
      "execution_count": null,
      "outputs": [
        {
          "output_type": "stream",
          "text": [
            "/usr/local/lib/python3.7/dist-packages/seaborn/_decorators.py:43: FutureWarning: Pass the following variable as a keyword arg: x. From version 0.12, the only valid positional argument will be `data`, and passing other arguments without an explicit keyword will result in an error or misinterpretation.\n",
            "  FutureWarning\n"
          ],
          "name": "stderr"
        },
        {
          "output_type": "execute_result",
          "data": {
            "text/plain": [
              "<matplotlib.axes._subplots.AxesSubplot at 0x7f3130ff1510>"
            ]
          },
          "metadata": {
            "tags": []
          },
          "execution_count": 90
        },
        {
          "output_type": "display_data",
          "data": {
            "image/png": "[encoded data removed]",
            "text/plain": [
              "<Figure size 432x288 with 1 Axes>"
            ]
          },
          "metadata": {
            "tags": [],
            "needs_background": "light"
          }
        }
      ]
    },
    {
      "cell_type": "code",
      "metadata": {
        "colab": {
          "base_uri": "https://localhost:8080/",
          "height": 350
        },
        "id": "qB688jvgq4dn",
        "outputId": "268de1f4-8404-48c4-e050-7b814a42e5f9"
      },
      "source": [
        "pgview_bins = (0, 15, 30, 45)\n",
        "pgview_cat_names = ['low', 'med', 'high']\n",
        "pgview_cats = pd.cut(event_features.pageviews, pgview_bins, labels=pgview_cat_names)\n",
        "sns.countplot(pgview_cats)"
      ],
      "execution_count": null,
      "outputs": [
        {
          "output_type": "stream",
          "text": [
            "/usr/local/lib/python3.7/dist-packages/seaborn/_decorators.py:43: FutureWarning: Pass the following variable as a keyword arg: x. From version 0.12, the only valid positional argument will be `data`, and passing other arguments without an explicit keyword will result in an error or misinterpretation.\n",
            "  FutureWarning\n"
          ],
          "name": "stderr"
        },
        {
          "output_type": "execute_result",
          "data": {
            "text/plain": [
              "<matplotlib.axes._subplots.AxesSubplot at 0x7f313101db50>"
            ]
          },
          "metadata": {
            "tags": []
          },
          "execution_count": 94
        },
        {
          "output_type": "display_data",
          "data": {
            "image/png": "[encoded data removed]",
            "text/plain": [
              "<Figure size 432x288 with 1 Axes>"
            ]
          },
          "metadata": {
            "tags": [],
            "needs_background": "light"
          }
        }
      ]
    },
    {
      "cell_type": "code",
      "metadata": {
        "colab": {
          "base_uri": "https://localhost:8080/",
          "height": 351
        },
        "id": "Fbb4QlOtrPUP",
        "outputId": "568bbacf-74fd-457a-d07a-bff1f83b255b"
      },
      "source": [
        "vidview_bins = (0, 50, 100, 150, 200, 250)\n",
        "vidview_cat_names = ['very low', 'low', 'med', 'high', 'very high']\n",
        "vidview_cats = pd.cut(event_features.views, vidview_bins, labels=vidview_cat_names)\n",
        "sns.countplot(vidview_cats)"
      ],
      "execution_count": null,
      "outputs": [
        {
          "output_type": "stream",
          "text": [
            "/usr/local/lib/python3.7/dist-packages/seaborn/_decorators.py:43: FutureWarning: Pass the following variable as a keyword arg: x. From version 0.12, the only valid positional argument will be `data`, and passing other arguments without an explicit keyword will result in an error or misinterpretation.\n",
            "  FutureWarning\n"
          ],
          "name": "stderr"
        },
        {
          "output_type": "execute_result",
          "data": {
            "text/plain": [
              "<matplotlib.axes._subplots.AxesSubplot at 0x7f3132fdda10>"
            ]
          },
          "metadata": {
            "tags": []
          },
          "execution_count": 95
        },
        {
          "output_type": "display_data",
          "data": {
            "image/png": "[encoded data removed]",
            "text/plain": [
              "<Figure size 432x288 with 1 Axes>"
            ]
          },
          "metadata": {
            "tags": [],
            "needs_background": "light"
          }
        }
      ]
    },
    {
      "cell_type": "code",
      "metadata": {
        "colab": {
          "base_uri": "https://localhost:8080/",
          "height": 351
        },
        "id": "F1nxGPrAqPZR",
        "outputId": "a0ad3edf-0231-4cef-852d-e6934f1f412e"
      },
      "source": [
        "sns.countplot(events_df.weekday_num)\n",
        "#left to right - monday through sunday"
      ],
      "execution_count": null,
      "outputs": [
        {
          "output_type": "stream",
          "text": [
            "/usr/local/lib/python3.7/dist-packages/seaborn/_decorators.py:43: FutureWarning: Pass the following variable as a keyword arg: x. From version 0.12, the only valid positional argument will be `data`, and passing other arguments without an explicit keyword will result in an error or misinterpretation.\n",
            "  FutureWarning\n"
          ],
          "name": "stderr"
        },
        {
          "output_type": "execute_result",
          "data": {
            "text/plain": [
              "<matplotlib.axes._subplots.AxesSubplot at 0x7f313305fed0>"
            ]
          },
          "metadata": {
            "tags": []
          },
          "execution_count": 92
        },
        {
          "output_type": "display_data",
          "data": {
            "image/png": "[encoded data removed]",
            "text/plain": [
              "<Figure size 432x288 with 1 Axes>"
            ]
          },
          "metadata": {
            "tags": [],
            "needs_background": "light"
          }
        }
      ]
    },
    {
      "cell_type": "code",
      "metadata": {
        "colab": {
          "base_uri": "https://localhost:8080/",
          "height": 351
        },
        "id": "0OmAtASbqoea",
        "outputId": "7c546075-47c1-463e-a779-cc75a75a67bf"
      },
      "source": [
        "sns.countplot(events_df.series_num)"
      ],
      "execution_count": null,
      "outputs": [
        {
          "output_type": "stream",
          "text": [
            "/usr/local/lib/python3.7/dist-packages/seaborn/_decorators.py:43: FutureWarning: Pass the following variable as a keyword arg: x. From version 0.12, the only valid positional argument will be `data`, and passing other arguments without an explicit keyword will result in an error or misinterpretation.\n",
            "  FutureWarning\n"
          ],
          "name": "stderr"
        },
        {
          "output_type": "execute_result",
          "data": {
            "text/plain": [
              "<matplotlib.axes._subplots.AxesSubplot at 0x7f313136ccd0>"
            ]
          },
          "metadata": {
            "tags": []
          },
          "execution_count": 93
        },
        {
          "output_type": "display_data",
          "data": {
            "image/png": "[encoded data removed]",
            "text/plain": [
              "<Figure size 432x288 with 1 Axes>"
            ]
          },
          "metadata": {
            "tags": [],
            "needs_background": "light"
          }
        }
      ]
    },
    {
      "cell_type": "code",
      "metadata": {
        "colab": {
          "base_uri": "https://localhost:8080/"
        },
        "id": "NYCpAEJDmI92",
        "outputId": "7d5bf756-bfb2-41ed-d82b-45d88a1ed998"
      },
      "source": [
        "events_merged.shape"
      ],
      "execution_count": null,
      "outputs": [
        {
          "output_type": "execute_result",
          "data": {
            "text/plain": [
              "(67, 25)"
            ]
          },
          "metadata": {
            "tags": []
          },
          "execution_count": 77
        }
      ]
    },
    {
      "cell_type": "code",
      "metadata": {
        "colab": {
          "base_uri": "https://localhost:8080/"
        },
        "id": "Erpky_34kiCW",
        "outputId": "46838d21-ab7e-49c5-e7bd-0945436e5b4d"
      },
      "source": [
        "X = event_features.drop('event_no', axis=1).values\n",
        "labels = event_features['event_no']\n",
        "labels.head()"
      ],
      "execution_count": null,
      "outputs": [
        {
          "output_type": "execute_result",
          "data": {
            "text/plain": [
              "0    22\n",
              "1    58\n",
              "2    58\n",
              "3    65\n",
              "4    76\n",
              "Name: event_no, dtype: int64"
            ]
          },
          "metadata": {
            "tags": []
          },
          "execution_count": 78
        }
      ]
    },
    {
      "cell_type": "code",
      "metadata": {
        "id": "4cZif7lkoJMi"
      },
      "source": [
        "def labelled_scatterplot(data=None,x=None,y=None,labs=None):\n",
        "    p1 = sns.scatterplot(data=data,x=x,y=y)\n",
        "    for line in range(0,data.shape[0]):\n",
        "        p1.text(data[x][line]+0.01, data[y][line], \n",
        "                data[labs][line], horizontalalignment='left', \n",
        "                size='medium', color='black')"
      ],
      "execution_count": null,
      "outputs": []
    },
    {
      "cell_type": "code",
      "metadata": {
        "colab": {
          "base_uri": "https://localhost:8080/",
          "height": 283
        },
        "id": "JEVLAgZwlmAK",
        "outputId": "d8821f58-0c48-497c-e639-2b7d27d97c1d"
      },
      "source": [
        "from sklearn.manifold import TSNE\n",
        "tsne = TSNE(n_components=2, random_state=0, perplexity=15)\n",
        "X_2d = tsne.fit_transform(X)\n",
        "tsne_labelled = pd.concat([pd.DataFrame({'event_no':labels}),pd.DataFrame(X_2d,columns=['d1','d2'])],axis=1)\n",
        "\n",
        "labelled_scatterplot(data=tsne_labelled, x='d1', y='d2', labs='event_no')"
      ],
      "execution_count": null,
      "outputs": [
        {
          "output_type": "display_data",
          "data": {
            "image/png": "[encoded data removed]",
            "text/plain": [
              "<Figure size 432x288 with 1 Axes>"
            ]
          },
          "metadata": {
            "tags": [],
            "needs_background": "light"
          }
        }
      ]
    },
    {
      "cell_type": "code",
      "metadata": {
        "colab": {
          "base_uri": "https://localhost:8080/",
          "height": 279
        },
        "id": "K83Y5M3Bo4-2",
        "outputId": "df8c962a-3e5d-4dfd-a0f5-44ebfd984213"
      },
      "source": [
        "tsne = TSNE(n_components=2, random_state=0, perplexity=10)\n",
        "X_2d = tsne.fit_transform(X)\n",
        "tsne_labelled = pd.concat([pd.DataFrame({'event_no':labels}),pd.DataFrame(X_2d,columns=['d1','d2'])],axis=1)\n",
        "\n",
        "labelled_scatterplot(data=tsne_labelled, x='d1', y='d2', labs='event_no')"
      ],
      "execution_count": null,
      "outputs": [
        {
          "output_type": "display_data",
          "data": {
            "image/png": "[encoded data removed]",
            "text/plain": [
              "<Figure size 432x288 with 1 Axes>"
            ]
          },
          "metadata": {
            "tags": [],
            "needs_background": "light"
          }
        }
      ]
    }
  ]
}