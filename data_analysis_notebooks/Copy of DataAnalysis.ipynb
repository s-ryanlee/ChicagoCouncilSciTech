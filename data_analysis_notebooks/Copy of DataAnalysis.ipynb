{
  "nbformat": 4,
  "nbformat_minor": 0,
  "metadata": {
    "colab": {
      "name": "DataAnalysis.ipynb",
      "provenance": [],
      "collapsed_sections": []
    },
    "kernelspec": {
      "name": "python3",
      "display_name": "Python 3"
    },
    "language_info": {
      "name": "python"
    }
  },
  "cells": [
    {
      "cell_type": "code",
      "metadata": {
        "id": "F5flGenzYLoq"
      },
      "source": [
        "from google.colab import drive\n",
        "import pandas as pd\n",
        "import glob\n",
        "import sqlite3\n",
        "import scipy.stats  as stats\n",
        "import seaborn as sns\n",
        "import datetime\n",
        "import matplotlib.pyplot as plt\n",
        "from matplotlib import gridspec"
      ],
      "execution_count": null,
      "outputs": []
    },
    {
      "cell_type": "code",
      "metadata": {
        "colab": {
          "base_uri": "https://localhost:8080/"
        },
        "id": "pqWIzd2iYbkT",
        "outputId": "0d22f9a6-4a37-4908-d845-44d5e307d95e"
      },
      "source": [
        "drive.mount('/content/drive')\n",
        "%cd '/content/drive/Shared drives/C2ST_CommunityCorpsW21/DataAnalysis-SharedFolder'"
      ],
      "execution_count": null,
      "outputs": [
        {
          "output_type": "stream",
          "text": [
            "Drive already mounted at /content/drive; to attempt to forcibly remount, call drive.mount(\"/content/drive\", force_remount=True).\n",
            "/content/drive/.shortcut-targets-by-id/1qAC2LEAd_wBx08vbq4DzJhyCxfzsd6mq/Data Analysis- Shared Folder\n"
          ],
          "name": "stdout"
        }
      ]
    },
    {
      "cell_type": "markdown",
      "metadata": {
        "id": "k-jJxcN1Y4XQ"
      },
      "source": [
        "# 1. programs_attendance_revised"
      ]
    },
    {
      "cell_type": "markdown",
      "metadata": {
        "id": "mZGVSDZGZxi3"
      },
      "source": [
        "## 1.1 Data Manipulation(copy from data cleaning colab)"
      ]
    },
    {
      "cell_type": "code",
      "metadata": {
        "colab": {
          "base_uri": "https://localhost:8080/"
        },
        "id": "l85vP0brY36h",
        "outputId": "1d0473f6-ef6e-4b7b-e618-575cfdf5cabd"
      },
      "source": [
        "%cd '/content/drive/Shared drives/C2ST_CommunityCorpsW21/DataAnalysis-SharedFolder/Engagement Data/'\n",
        "program_df = pd.read_excel('Programs Attendance revised 9.23.20.xlsx')\n",
        "\n",
        "# Drop unneccessary rows\n",
        "# Easiest way: program_df[:277] --> need to update slicing when new data comes in\n",
        "program_df = program_df.dropna(subset=['Date'])\n",
        "program_df = program_df[~program_df['Date'].str.contains('July',na=False)]\n",
        "program_df = program_df[~program_df['Date'].str.contains('Total',na=False)]\n",
        "program_df = program_df[~program_df['Date'].str.contains('Mean',na=False)] \n",
        "# Format Date of program 'Energy Colloquium': 5/5&7/08 -> 5/5/08, 5/7/08\n",
        "program_df=program_df.loc[:,~program_df.columns.str.contains('^Unnamed', case=False)]\n",
        "format_date = program_df[program_df['Date']=='5/5&7/08']    \n",
        "format_date.at[4, 'Date'] = '5/7/08'\n",
        "program_df = pd.concat([program_df, format_date], ignore_index=True)\n",
        "program_df.at[4,'Date'] = '5/5/08'\n",
        "# Rename Program Title\n",
        "program_df['Program Title']= program_df['Program Title'].str.strip()\n",
        "program_df.at[program_df[program_df['Program Title'] == 'Women in STEM: Connect'].index[0],'Program Title']='2014 Women in STEM'\n",
        "program_df.at[program_df[program_df['Program Title'] == '2015 Women in STEM: Connect'].index[0],'Program Title']='Women in STEM: Connect 2015'\n",
        "program_df.at[program_df[program_df['Program Title'] == 'An Evening into the Multiverse'].index[0],'Program Title']='An Evening Inside the Multiverse'\n",
        "program_df['Date'] = pd.to_datetime(program_df['Date'])\n",
        "# Create program_id\n",
        "program_df['Program ID'] = program_df.index\n",
        "program_df['Program ID'] = 'Program_' + program_df['Program ID'].astype(str)\n",
        "program_df.loc[program_df['Date'] == '2008-05-07', 'Program ID'] = 'Program_4'"
      ],
      "execution_count": null,
      "outputs": [
        {
          "output_type": "stream",
          "text": [
            "/content/drive/.shortcut-targets-by-id/1qAC2LEAd_wBx08vbq4DzJhyCxfzsd6mq/Data Analysis- Shared Folder/Engagement Data\n"
          ],
          "name": "stdout"
        }
      ]
    },
    {
      "cell_type": "markdown",
      "metadata": {
        "id": "eIrDvzEcaA-R"
      },
      "source": [
        "##1.2 Analysis: \n",
        "### 1.2.1 Is there any correlation between live stream and attendence number\n"
      ]
    },
    {
      "cell_type": "markdown",
      "metadata": {
        "id": "EksmtJZagIoS"
      },
      "source": [
        "#### Fail to reject the null hypothesis(p-value 0.31>0.05). There is no relationship between whether live stream and the number of attendence. "
      ]
    },
    {
      "cell_type": "code",
      "metadata": {
        "colab": {
          "base_uri": "https://localhost:8080/"
        },
        "id": "kZzEgYkiY29v",
        "outputId": "1bcdada0-0dbc-47c0-a4a2-4243c359c1d0"
      },
      "source": [
        "for live in program_df['Live Stream']:\n",
        "  if live !='NaN' or live!=0:\n",
        "    program_df.loc[program_df['Live Stream']==live,'live_stream'] = 1\n",
        "program_df['live_stream'] = program_df['live_stream'].fillna(0)\n",
        "program_df = program_df[program_df['Attendance (in seats)'].notna()]\n",
        "correlation= stats.pearsonr(program_df['Attendance (in seats)'].astype('float64'),program_df['live_stream'].astype('float64'))\n",
        "print(correlation)"
      ],
      "execution_count": null,
      "outputs": [
        {
          "output_type": "stream",
          "text": [
            "(0.06375914700870972, 0.3076388333812136)\n"
          ],
          "name": "stdout"
        }
      ]
    },
    {
      "cell_type": "markdown",
      "metadata": {
        "id": "YLkLgRDOhwOA"
      },
      "source": [
        "# 2. Youtube\n",
        "## 2.1 Data Manipulation(copy from data cleaning colab)"
      ]
    },
    {
      "cell_type": "code",
      "metadata": {
        "colab": {
          "base_uri": "https://localhost:8080/"
        },
        "id": "RcSP-ZF8hdrK",
        "outputId": "328c240b-2091-4d0e-b41d-444661723b76"
      },
      "source": [
        "# Step1\n",
        "path =r'/content/drive/Shared drives/C2ST_CommunityCorpsW21/TestFiles/Youtube_monthly/Youtube_views'\n",
        "youtube_view_files = glob.glob(path + \"/*.csv\")\n",
        "\n",
        "# 1.Loop through csv files under Youtube_views folder \n",
        "# 1) read them into DataFrames \n",
        "# 2) create column: Update Time \n",
        "youtube_view_dataframes = []\n",
        "view_start_date = datetime.date(2020, 2, 1)\n",
        "\n",
        "max_len = 0\n",
        "for file in youtube_view_files:\n",
        "  if len(file) > max_len: max_len = len(file) \n",
        "\n",
        "for file in youtube_view_files:\n",
        "  if len(file) == max_len:\n",
        "    year = int(file[-14:-10])\n",
        "    month = int(file[-9:-7])\n",
        "    date = int(file[-6:-4])\n",
        "    view_start_date = datetime.date(year, month, date)\n",
        "  else:\n",
        "    year = int(file[-13:-9])\n",
        "    month = int(file[-8:-7])\n",
        "    date = int(file[-6:-4])\n",
        "    view_start_date = datetime.date(year, month, date)\n",
        "  view_df = pd.read_csv(file)\n",
        "  view_df['Update Date'] = view_start_date\n",
        "  youtube_view_dataframes.append(view_df)\n",
        "\n",
        "# Concatenate all data into one DataFrame\n",
        "youtube_view_df = pd.concat(youtube_view_dataframes)\n",
        "youtube_view_df = youtube_view_df.drop(columns=['% Δ'])\n",
        "# youtube_view_df\n",
        "\n",
        "##########################################################\n",
        "# Step2\n",
        "path =r'/content/drive/Shared drives/C2ST_CommunityCorpsW21/TestFiles/Youtube_monthly/Youtube_watchtimes' ## Directory needs to change\n",
        "youtube_length_files = glob.glob(path + \"/*.csv\")\n",
        "\n",
        "# Loop through csv files under Youtube_watchtimes folder\n",
        "# 1) read them into DataFrames \n",
        "# 2) create column: Update Time \n",
        "youtube_length_dataframes = []\n",
        "length_start_date = datetime.date(2020, 2,1)\n",
        "\n",
        "max_len2 = 0\n",
        "for file in youtube_length_files:\n",
        "  if len(file) > max_len2: max_len2 = len(file) \n",
        "\n",
        "for file in youtube_length_files:\n",
        "  if len(file) == max_len2:\n",
        "    year = int(file[-14:-10])\n",
        "    month = int(file[-9:-7])\n",
        "    date = int(file[-6:-4])\n",
        "    length_start_date = datetime.date(year, month, date)\n",
        "  else:\n",
        "    year = int(file[-13:-9])\n",
        "    month = int(file[-8:-7])\n",
        "    date = int(file[-6:-4])\n",
        "    length_start_date = datetime.date(year, month, date)\n",
        "  length_df = pd.read_csv(file)\n",
        "  length_df['Update Date'] = length_start_date\n",
        "  youtube_length_dataframes.append(length_df)\n",
        "\n",
        "# Concatenate all data into one DataFrame\n",
        "youtube_length_df = pd.concat(youtube_length_dataframes, ignore_index=True)\n",
        "youtube_length_df = youtube_length_df.drop(columns=['% Δ'])\n",
        "\n",
        "##########################################################\n",
        "# Step3: Merge youtube_view_df and youtube_length_df on 'Video Tile' and 'Update Date'\n",
        "youtube_studio_df = pd.merge(youtube_view_df,youtube_length_df,how=\"outer\", on=[\"Video Title\", \"Update Date\"])\n",
        "youtube_studio_df['Update Date'] = pd.to_datetime(youtube_studio_df['Update Date'])\n",
        "\n",
        "##########################################################\n",
        "# Step4: Add Publish Date\n",
        "%cd '/content/drive/Shared drives/C2ST_CommunityCorpsW21/DataAnalysis-SharedFolder/YouTube'\n",
        "youtube_df = pd.read_csv('Table data.csv')\n",
        "youtube_df = youtube_df[['Video','Video title','Video publish time']]\n",
        "youtube_df = youtube_df.dropna(subset=['Video title'])\n",
        "for video in youtube_studio_df['Video Title']:\n",
        "  for video2 in youtube_df['Video title']:\n",
        "    if video == video2:\n",
        "      date = youtube_df.loc[youtube_df['Video title'] == video2]['Video publish time'].values[0]\n",
        "      youtube_studio_df.loc[youtube_studio_df['Video Title'] == video, 'Publish Date'] = date\n",
        "youtube_studio_df['Publish Date'] = pd.to_datetime(youtube_studio_df['Publish Date'])"
      ],
      "execution_count": null,
      "outputs": [
        {
          "output_type": "stream",
          "text": [
            "/content/drive/.shortcut-targets-by-id/1qAC2LEAd_wBx08vbq4DzJhyCxfzsd6mq/Data Analysis- Shared Folder/YouTube\n"
          ],
          "name": "stdout"
        }
      ]
    },
    {
      "cell_type": "code",
      "metadata": {
        "colab": {
          "base_uri": "https://localhost:8080/",
          "height": 424
        },
        "id": "RmiLVIByWh_n",
        "outputId": "48d75a31-d66c-4bb5-8323-b1389d0ff8f0"
      },
      "source": [
        "youtube_studio_df"
      ],
      "execution_count": null,
      "outputs": [
        {
          "output_type": "execute_result",
          "data": {
            "text/html": [
              "<div>\n",
              "<style scoped>\n",
              "    .dataframe tbody tr th:only-of-type {\n",
              "        vertical-align: middle;\n",
              "    }\n",
              "\n",
              "    .dataframe tbody tr th {\n",
              "        vertical-align: top;\n",
              "    }\n",
              "\n",
              "    .dataframe thead th {\n",
              "        text-align: right;\n",
              "    }\n",
              "</style>\n",
              "<table border=\"1\" class=\"dataframe\">\n",
              "  <thead>\n",
              "    <tr style=\"text-align: right;\">\n",
              "      <th></th>\n",
              "      <th>Video Title</th>\n",
              "      <th>Views</th>\n",
              "      <th>Update Date</th>\n",
              "      <th>Video Length</th>\n",
              "      <th>Watch Time</th>\n",
              "      <th>Publish Date</th>\n",
              "    </tr>\n",
              "  </thead>\n",
              "  <tbody>\n",
              "    <tr>\n",
              "      <th>0</th>\n",
              "      <td>The Origins of Genus Homo</td>\n",
              "      <td>473</td>\n",
              "      <td>2021-03-25</td>\n",
              "      <td>4661</td>\n",
              "      <td>1309.061815</td>\n",
              "      <td>2018-06-18</td>\n",
              "    </tr>\n",
              "    <tr>\n",
              "      <th>1</th>\n",
              "      <td>COVID Vaccines: Fact vs. Fiction</td>\n",
              "      <td>221</td>\n",
              "      <td>2021-03-25</td>\n",
              "      <td>2897</td>\n",
              "      <td>1422.211903</td>\n",
              "      <td>NaT</td>\n",
              "    </tr>\n",
              "    <tr>\n",
              "      <th>2</th>\n",
              "      <td>Biomechanics of Running: The Science of Moveme...</td>\n",
              "      <td>153</td>\n",
              "      <td>2021-03-25</td>\n",
              "      <td>4858</td>\n",
              "      <td>748.117743</td>\n",
              "      <td>2014-09-13</td>\n",
              "    </tr>\n",
              "    <tr>\n",
              "      <th>3</th>\n",
              "      <td>Mental Help: Coping with Bias &amp; Collective Trauma</td>\n",
              "      <td>124</td>\n",
              "      <td>2021-03-25</td>\n",
              "      <td>3673</td>\n",
              "      <td>1146.804989</td>\n",
              "      <td>NaT</td>\n",
              "    </tr>\n",
              "    <tr>\n",
              "      <th>4</th>\n",
              "      <td>Dietary Supplements: Stories of Regulation, Sa...</td>\n",
              "      <td>88</td>\n",
              "      <td>2021-03-25</td>\n",
              "      <td>5036</td>\n",
              "      <td>288.348500</td>\n",
              "      <td>2017-06-26</td>\n",
              "    </tr>\n",
              "    <tr>\n",
              "      <th>...</th>\n",
              "      <td>...</td>\n",
              "      <td>...</td>\n",
              "      <td>...</td>\n",
              "      <td>...</td>\n",
              "      <td>...</td>\n",
              "      <td>...</td>\n",
              "    </tr>\n",
              "    <tr>\n",
              "      <th>2518</th>\n",
              "      <td>Climate Disruption: What We Can Do Now</td>\n",
              "      <td>1</td>\n",
              "      <td>2020-01-31</td>\n",
              "      <td>4845</td>\n",
              "      <td>59.935000</td>\n",
              "      <td>2016-03-10</td>\n",
              "    </tr>\n",
              "    <tr>\n",
              "      <th>2519</th>\n",
              "      <td>The Science of Star Wars Highlights</td>\n",
              "      <td>1</td>\n",
              "      <td>2020-01-31</td>\n",
              "      <td>155</td>\n",
              "      <td>55.328500</td>\n",
              "      <td>2019-04-11</td>\n",
              "    </tr>\n",
              "    <tr>\n",
              "      <th>2520</th>\n",
              "      <td>Music - There's a Science to That Highlights -...</td>\n",
              "      <td>1</td>\n",
              "      <td>2020-01-31</td>\n",
              "      <td>271</td>\n",
              "      <td>3.132000</td>\n",
              "      <td>2015-04-20</td>\n",
              "    </tr>\n",
              "    <tr>\n",
              "      <th>2521</th>\n",
              "      <td>C2ST and 2Blades Present: Food Evolution, High...</td>\n",
              "      <td>0</td>\n",
              "      <td>2020-01-31</td>\n",
              "      <td>344</td>\n",
              "      <td>0.000000</td>\n",
              "      <td>2019-01-07</td>\n",
              "    </tr>\n",
              "    <tr>\n",
              "      <th>2522</th>\n",
              "      <td>C2ST and 2Blades Present: Food Evolution</td>\n",
              "      <td>0</td>\n",
              "      <td>2020-01-31</td>\n",
              "      <td>3612</td>\n",
              "      <td>0.000000</td>\n",
              "      <td>2018-12-08</td>\n",
              "    </tr>\n",
              "  </tbody>\n",
              "</table>\n",
              "<p>2523 rows × 6 columns</p>\n",
              "</div>"
            ],
            "text/plain": [
              "                                            Video Title  ...  Publish Date\n",
              "0                             The Origins of Genus Homo  ...    2018-06-18\n",
              "1                      COVID Vaccines: Fact vs. Fiction  ...           NaT\n",
              "2     Biomechanics of Running: The Science of Moveme...  ...    2014-09-13\n",
              "3     Mental Help: Coping with Bias & Collective Trauma  ...           NaT\n",
              "4     Dietary Supplements: Stories of Regulation, Sa...  ...    2017-06-26\n",
              "...                                                 ...  ...           ...\n",
              "2518             Climate Disruption: What We Can Do Now  ...    2016-03-10\n",
              "2519                The Science of Star Wars Highlights  ...    2019-04-11\n",
              "2520  Music - There's a Science to That Highlights -...  ...    2015-04-20\n",
              "2521  C2ST and 2Blades Present: Food Evolution, High...  ...    2019-01-07\n",
              "2522           C2ST and 2Blades Present: Food Evolution  ...    2018-12-08\n",
              "\n",
              "[2523 rows x 6 columns]"
            ]
          },
          "metadata": {
            "tags": []
          },
          "execution_count": 18
        }
      ]
    },
    {
      "cell_type": "markdown",
      "metadata": {
        "id": "W7Be8I9kj2Li"
      },
      "source": [
        "## 2.2 Analysis\n",
        "### 2.2.1 Correlation Coeffiencts among Views, Video Length, Watch Time\n",
        "Weak correlation"
      ]
    },
    {
      "cell_type": "code",
      "metadata": {
        "colab": {
          "base_uri": "https://localhost:8080/",
          "height": 288
        },
        "id": "3gsybt8MiL4c",
        "outputId": "e4b2f5c6-d5bd-49d9-96b2-67f6d1aff616"
      },
      "source": [
        "youtube_studio_df\n",
        "engagement = youtube_studio_df[['Views','Video Length','Watch Time']]\n",
        "sns.heatmap(engagement.corr(),annot=True)"
      ],
      "execution_count": null,
      "outputs": [
        {
          "output_type": "execute_result",
          "data": {
            "text/plain": [
              "<matplotlib.axes._subplots.AxesSubplot at 0x7f0608de5910>"
            ]
          },
          "metadata": {
            "tags": []
          },
          "execution_count": 19
        },
        {
          "output_type": "display_data",
          "data": {
            "image/png": "[encoded data removed]",
            "text/plain": [
              "<Figure size 432x288 with 2 Axes>"
            ]
          },
          "metadata": {
            "tags": [],
            "needs_background": "light"
          }
        }
      ]
    },
    {
      "cell_type": "markdown",
      "metadata": {
        "id": "9Vp5JRZwllxP"
      },
      "source": [
        "### 2.2.2: Views\n",
        "#### 2.2.2.1: Top 20 Videos during 01/01/2020-3/25/2021\n"
      ]
    },
    {
      "cell_type": "code",
      "metadata": {
        "colab": {
          "base_uri": "https://localhost:8080/",
          "height": 677
        },
        "id": "apKAfIpPoQPh",
        "outputId": "1074c490-4340-4fa1-b7c5-425aeea51b56"
      },
      "source": [
        "views_df = youtube_studio_df.groupby(['Video Title','Publish Date'])['Views'].sum().reset_index(name='views').sort_values(by=['views'], ascending=False)\n",
        "views_df = views_df.head(20)\n",
        "views_df"
      ],
      "execution_count": null,
      "outputs": [
        {
          "output_type": "execute_result",
          "data": {
            "text/html": [
              "<div>\n",
              "<style scoped>\n",
              "    .dataframe tbody tr th:only-of-type {\n",
              "        vertical-align: middle;\n",
              "    }\n",
              "\n",
              "    .dataframe tbody tr th {\n",
              "        vertical-align: top;\n",
              "    }\n",
              "\n",
              "    .dataframe thead th {\n",
              "        text-align: right;\n",
              "    }\n",
              "</style>\n",
              "<table border=\"1\" class=\"dataframe\">\n",
              "  <thead>\n",
              "    <tr style=\"text-align: right;\">\n",
              "      <th></th>\n",
              "      <th>Video Title</th>\n",
              "      <th>Publish Date</th>\n",
              "      <th>views</th>\n",
              "    </tr>\n",
              "  </thead>\n",
              "  <tbody>\n",
              "    <tr>\n",
              "      <th>253</th>\n",
              "      <td>Women in Science Symposium 2012 Closing Keynot...</td>\n",
              "      <td>2012-08-13</td>\n",
              "      <td>4669</td>\n",
              "    </tr>\n",
              "    <tr>\n",
              "      <th>217</th>\n",
              "      <td>The Origins of Genus Homo</td>\n",
              "      <td>2018-06-18</td>\n",
              "      <td>4270</td>\n",
              "    </tr>\n",
              "    <tr>\n",
              "      <th>21</th>\n",
              "      <td>Biomechanics of Running: The Science of Moveme...</td>\n",
              "      <td>2014-09-13</td>\n",
              "      <td>2779</td>\n",
              "    </tr>\n",
              "    <tr>\n",
              "      <th>123</th>\n",
              "      <td>Neutrino 2020 Physics Slam!</td>\n",
              "      <td>2020-07-02</td>\n",
              "      <td>1675</td>\n",
              "    </tr>\n",
              "    <tr>\n",
              "      <th>79</th>\n",
              "      <td>Forensic Genomic Technologies: New Frontiers B...</td>\n",
              "      <td>2020-06-26</td>\n",
              "      <td>1299</td>\n",
              "    </tr>\n",
              "    <tr>\n",
              "      <th>84</th>\n",
              "      <td>Head Banging: How Music and Concussions Impact...</td>\n",
              "      <td>2018-10-04</td>\n",
              "      <td>1198</td>\n",
              "    </tr>\n",
              "    <tr>\n",
              "      <th>208</th>\n",
              "      <td>The Heart of Marine Biodiversity  Saving the V...</td>\n",
              "      <td>2016-10-12</td>\n",
              "      <td>1150</td>\n",
              "    </tr>\n",
              "    <tr>\n",
              "      <th>209</th>\n",
              "      <td>The Heart of Marine Biodiversity: Saving the V...</td>\n",
              "      <td>2016-09-29</td>\n",
              "      <td>1040</td>\n",
              "    </tr>\n",
              "    <tr>\n",
              "      <th>144</th>\n",
              "      <td>Program: The Art of Logic with Dr. Eugenia Cheng</td>\n",
              "      <td>2020-01-10</td>\n",
              "      <td>1011</td>\n",
              "    </tr>\n",
              "    <tr>\n",
              "      <th>228</th>\n",
              "      <td>The Secret Lives of Female Chimpanzees</td>\n",
              "      <td>2016-08-18</td>\n",
              "      <td>1008</td>\n",
              "    </tr>\n",
              "    <tr>\n",
              "      <th>223</th>\n",
              "      <td>The Science of Addiction</td>\n",
              "      <td>2016-03-24</td>\n",
              "      <td>854</td>\n",
              "    </tr>\n",
              "    <tr>\n",
              "      <th>111</th>\n",
              "      <td>Making Things Meaningful in the Ice Age</td>\n",
              "      <td>2017-04-12</td>\n",
              "      <td>778</td>\n",
              "    </tr>\n",
              "    <tr>\n",
              "      <th>230</th>\n",
              "      <td>The Study of Ancient DNA: Knowledge from Unexp...</td>\n",
              "      <td>2020-08-20</td>\n",
              "      <td>691</td>\n",
              "    </tr>\n",
              "    <tr>\n",
              "      <th>101</th>\n",
              "      <td>Interview: The Earliest Child The Significance...</td>\n",
              "      <td>2019-10-25</td>\n",
              "      <td>535</td>\n",
              "    </tr>\n",
              "    <tr>\n",
              "      <th>74</th>\n",
              "      <td>Fermilab and the New Frontiers of Physics</td>\n",
              "      <td>2017-09-12</td>\n",
              "      <td>478</td>\n",
              "    </tr>\n",
              "    <tr>\n",
              "      <th>68</th>\n",
              "      <td>Extreme Science: The U.S. Antarctic Program</td>\n",
              "      <td>2017-04-21</td>\n",
              "      <td>446</td>\n",
              "    </tr>\n",
              "    <tr>\n",
              "      <th>19</th>\n",
              "      <td>Art, Science, and the Elegant Universe</td>\n",
              "      <td>2020-06-18</td>\n",
              "      <td>419</td>\n",
              "    </tr>\n",
              "    <tr>\n",
              "      <th>176</th>\n",
              "      <td>Science from the Frontlines: Engineering at th...</td>\n",
              "      <td>2020-07-09</td>\n",
              "      <td>398</td>\n",
              "    </tr>\n",
              "    <tr>\n",
              "      <th>99</th>\n",
              "      <td>Interview with MK Czerwiec, AKA the Comic Nurse</td>\n",
              "      <td>2015-12-06</td>\n",
              "      <td>334</td>\n",
              "    </tr>\n",
              "    <tr>\n",
              "      <th>179</th>\n",
              "      <td>Science is for Everyone</td>\n",
              "      <td>2018-02-21</td>\n",
              "      <td>311</td>\n",
              "    </tr>\n",
              "  </tbody>\n",
              "</table>\n",
              "</div>"
            ],
            "text/plain": [
              "                                           Video Title Publish Date  views\n",
              "253  Women in Science Symposium 2012 Closing Keynot...   2012-08-13   4669\n",
              "217                          The Origins of Genus Homo   2018-06-18   4270\n",
              "21   Biomechanics of Running: The Science of Moveme...   2014-09-13   2779\n",
              "123                        Neutrino 2020 Physics Slam!   2020-07-02   1675\n",
              "79   Forensic Genomic Technologies: New Frontiers B...   2020-06-26   1299\n",
              "84   Head Banging: How Music and Concussions Impact...   2018-10-04   1198\n",
              "208  The Heart of Marine Biodiversity  Saving the V...   2016-10-12   1150\n",
              "209  The Heart of Marine Biodiversity: Saving the V...   2016-09-29   1040\n",
              "144   Program: The Art of Logic with Dr. Eugenia Cheng   2020-01-10   1011\n",
              "228             The Secret Lives of Female Chimpanzees   2016-08-18   1008\n",
              "223                           The Science of Addiction   2016-03-24    854\n",
              "111            Making Things Meaningful in the Ice Age   2017-04-12    778\n",
              "230  The Study of Ancient DNA: Knowledge from Unexp...   2020-08-20    691\n",
              "101  Interview: The Earliest Child The Significance...   2019-10-25    535\n",
              "74           Fermilab and the New Frontiers of Physics   2017-09-12    478\n",
              "68         Extreme Science: The U.S. Antarctic Program   2017-04-21    446\n",
              "19              Art, Science, and the Elegant Universe   2020-06-18    419\n",
              "176  Science from the Frontlines: Engineering at th...   2020-07-09    398\n",
              "99     Interview with MK Czerwiec, AKA the Comic Nurse   2015-12-06    334\n",
              "179                            Science is for Everyone   2018-02-21    311"
            ]
          },
          "metadata": {
            "tags": []
          },
          "execution_count": 20
        }
      ]
    },
    {
      "cell_type": "code",
      "metadata": {
        "colab": {
          "base_uri": "https://localhost:8080/",
          "height": 905
        },
        "id": "x-g281HglixY",
        "outputId": "3d778877-30d6-40e9-e599-797fcc5f2512"
      },
      "source": [
        "fig = plt.figure(figsize=(20, 6))\n",
        "gs = gridspec.GridSpec(nrows=1, ncols=2,\n",
        "                       height_ratios=[6], \n",
        "                       width_ratios=[10, 5])\n",
        "\n",
        "ax = plt.subplot(gs[0])\n",
        "sns.barplot(x = \"Video Title\",y = \"views\",data = views_df,ax=ax, palette=\"RdGy\")\n",
        "ax.set_xticklabels(views_df['Video Title'], rotation='90')\n",
        "ax.set_title('Top 20 Youtube Videos (01/01/2020-3/25/2021)', fontsize=15, fontweight='bold')\n",
        "ax.set_xlabel('Program (Youtube Video Title)')\n",
        "ax.set_ylabel('Lifetime Views')"
      ],
      "execution_count": null,
      "outputs": [
        {
          "output_type": "execute_result",
          "data": {
            "text/plain": [
              "Text(0, 0.5, 'Lifetime Views')"
            ]
          },
          "metadata": {
            "tags": []
          },
          "execution_count": 21
        },
        {
          "output_type": "display_data",
          "data": {
            "image/png": "[encoded data removed]",
            "text/plain": [
              "<Figure size 1440x432 with 1 Axes>"
            ]
          },
          "metadata": {
            "tags": [],
            "needs_background": "light"
          }
        }
      ]
    },
    {
      "cell_type": "code",
      "metadata": {
        "colab": {
          "base_uri": "https://localhost:8080/",
          "height": 905
        },
        "id": "eK07hir7zVme",
        "outputId": "103b1aa3-5b3e-4b2a-915e-d2fec4105b76"
      },
      "source": [
        "views_df5 = views_df.copy().head(10)\n",
        "\n",
        "fig = plt.figure(figsize=(20, 6))\n",
        "gs = gridspec.GridSpec(nrows=1, ncols=2,\n",
        "                       height_ratios=[6], \n",
        "                       width_ratios=[10, 5])\n",
        "\n",
        "ax = plt.subplot(gs[0])\n",
        "sns.barplot(x = \"Video Title\",y = \"views\",data = views_df5,ax=ax, palette=\"RdGy\")\n",
        "ax.set_xticklabels(views_df['Video Title'], rotation='90')\n",
        "ax.set_title('Top 10 Youtube Videos (01/01/2020-3/25/2021)', fontsize=15, fontweight='bold')\n",
        "ax.set_xlabel('Program (Youtube Video Title)')\n",
        "ax.set_ylabel('Lifetime Views')"
      ],
      "execution_count": null,
      "outputs": [
        {
          "output_type": "execute_result",
          "data": {
            "text/plain": [
              "Text(0, 0.5, 'Lifetime Views')"
            ]
          },
          "metadata": {
            "tags": []
          },
          "execution_count": 31
        },
        {
          "output_type": "display_data",
          "data": {
            "image/png": "[encoded data removed]",
            "text/plain": [
              "<Figure size 1440x432 with 1 Axes>"
            ]
          },
          "metadata": {
            "tags": [],
            "needs_background": "light"
          }
        }
      ]
    },
    {
      "cell_type": "markdown",
      "metadata": {
        "id": "RkrmwMVztB48"
      },
      "source": [
        "#### 2.2.2.2: Total Views by month (01/01/2020-12/31/2020)"
      ]
    },
    {
      "cell_type": "code",
      "metadata": {
        "id": "47Ym9sIasz71"
      },
      "source": [
        "month_df = youtube_studio_df[(youtube_studio_df['Update Date']!= '2021-03-01') &(youtube_studio_df['Update Date']!= '2021-04-01')&(youtube_studio_df['Update Date']!= '2021-02-01')]\n",
        "month_df['Month'] = month_df['Update Date'].dt.month - 1\n",
        "month_df.loc[month_df['Month']==0,'Month'] =12\n",
        "month_view_df = month_df.groupby(['Month'])['Views'].sum().reset_index(name='Total Views').sort_values(by=['Total Views'], ascending=False)"
      ],
      "execution_count": null,
      "outputs": []
    },
    {
      "cell_type": "code",
      "metadata": {
        "id": "sd2eV_jQHeXV",
        "colab": {
          "base_uri": "https://localhost:8080/",
          "height": 426
        },
        "outputId": "855b2569-1fb0-4973-a636-35be8ad480e3"
      },
      "source": [
        "month_view_df"
      ],
      "execution_count": null,
      "outputs": [
        {
          "output_type": "execute_result",
          "data": {
            "text/html": [
              "<div>\n",
              "<style scoped>\n",
              "    .dataframe tbody tr th:only-of-type {\n",
              "        vertical-align: middle;\n",
              "    }\n",
              "\n",
              "    .dataframe tbody tr th {\n",
              "        vertical-align: top;\n",
              "    }\n",
              "\n",
              "    .dataframe thead th {\n",
              "        text-align: right;\n",
              "    }\n",
              "</style>\n",
              "<table border=\"1\" class=\"dataframe\">\n",
              "  <thead>\n",
              "    <tr style=\"text-align: right;\">\n",
              "      <th></th>\n",
              "      <th>Month</th>\n",
              "      <th>Total Views</th>\n",
              "    </tr>\n",
              "  </thead>\n",
              "  <tbody>\n",
              "    <tr>\n",
              "      <th>4</th>\n",
              "      <td>5</td>\n",
              "      <td>5234</td>\n",
              "    </tr>\n",
              "    <tr>\n",
              "      <th>0</th>\n",
              "      <td>1</td>\n",
              "      <td>4352</td>\n",
              "    </tr>\n",
              "    <tr>\n",
              "      <th>5</th>\n",
              "      <td>6</td>\n",
              "      <td>3866</td>\n",
              "    </tr>\n",
              "    <tr>\n",
              "      <th>1</th>\n",
              "      <td>2</td>\n",
              "      <td>3691</td>\n",
              "    </tr>\n",
              "    <tr>\n",
              "      <th>11</th>\n",
              "      <td>12</td>\n",
              "      <td>3541</td>\n",
              "    </tr>\n",
              "    <tr>\n",
              "      <th>8</th>\n",
              "      <td>9</td>\n",
              "      <td>3212</td>\n",
              "    </tr>\n",
              "    <tr>\n",
              "      <th>6</th>\n",
              "      <td>7</td>\n",
              "      <td>3093</td>\n",
              "    </tr>\n",
              "    <tr>\n",
              "      <th>9</th>\n",
              "      <td>10</td>\n",
              "      <td>2997</td>\n",
              "    </tr>\n",
              "    <tr>\n",
              "      <th>10</th>\n",
              "      <td>11</td>\n",
              "      <td>2962</td>\n",
              "    </tr>\n",
              "    <tr>\n",
              "      <th>7</th>\n",
              "      <td>8</td>\n",
              "      <td>2873</td>\n",
              "    </tr>\n",
              "    <tr>\n",
              "      <th>3</th>\n",
              "      <td>4</td>\n",
              "      <td>2156</td>\n",
              "    </tr>\n",
              "    <tr>\n",
              "      <th>2</th>\n",
              "      <td>3</td>\n",
              "      <td>1792</td>\n",
              "    </tr>\n",
              "  </tbody>\n",
              "</table>\n",
              "</div>"
            ],
            "text/plain": [
              "    Month  Total Views\n",
              "4       5         5234\n",
              "0       1         4352\n",
              "5       6         3866\n",
              "1       2         3691\n",
              "11     12         3541\n",
              "8       9         3212\n",
              "6       7         3093\n",
              "9      10         2997\n",
              "10     11         2962\n",
              "7       8         2873\n",
              "3       4         2156\n",
              "2       3         1792"
            ]
          },
          "metadata": {
            "tags": []
          },
          "execution_count": 23
        }
      ]
    },
    {
      "cell_type": "code",
      "metadata": {
        "id": "H1jEZecAzvRb",
        "colab": {
          "base_uri": "https://localhost:8080/",
          "height": 296
        },
        "outputId": "cf3c4571-fb8b-4e89-a95f-4960ca520513"
      },
      "source": [
        "sns.lineplot(data=month_view_df, x=\"Month\", y=\"Total Views\",color=\"coral\")\n",
        "ax.set_title('Views by Month', fontsize=15, fontweight='bold')"
      ],
      "execution_count": null,
      "outputs": [
        {
          "output_type": "execute_result",
          "data": {
            "text/plain": [
              "Text(0.5, 1.0, 'Views by Month')"
            ]
          },
          "metadata": {
            "tags": []
          },
          "execution_count": 24
        },
        {
          "output_type": "display_data",
          "data": {
            "image/png": "[encoded data removed]",
            "text/plain": [
              "<Figure size 432x288 with 1 Axes>"
            ]
          },
          "metadata": {
            "tags": [],
            "needs_background": "light"
          }
        }
      ]
    },
    {
      "cell_type": "markdown",
      "metadata": {
        "id": "-kYILkaF1R73"
      },
      "source": [
        "#### 2.2.2.3 Top 5 Video by month"
      ]
    },
    {
      "cell_type": "code",
      "metadata": {
        "id": "YNK3ovnu1naJ",
        "colab": {
          "base_uri": "https://localhost:8080/",
          "height": 1000
        },
        "outputId": "292f4278-d4dd-422f-e590-4ef933a77917"
      },
      "source": [
        "update_list = [date for date in month_df['Update Date']]\n",
        "update_list = set(update_list)\n",
        "\n",
        "video_month_dataframes = []\n",
        "for date in update_list:\n",
        "  df = month_df[month_df['Update Date']==date].sort_values(by='Views', ascending=False).head(5)\n",
        "  video_month_dataframes.append(df)\n",
        "video_month_df = pd.concat(video_month_dataframes)\n",
        "video_month_df = video_month_df[['Video Title','Views','Update Date','Publish Date']]\n",
        "pd.set_option('display.max_rows', 122)\n",
        "video_month_df = video_month_df.sort_values(['Update Date', 'Views'], ascending=[True, False])\n",
        "video_month_df"
      ],
      "execution_count": null,
      "outputs": [
        {
          "output_type": "execute_result",
          "data": {
            "text/html": [
              "<div>\n",
              "<style scoped>\n",
              "    .dataframe tbody tr th:only-of-type {\n",
              "        vertical-align: middle;\n",
              "    }\n",
              "\n",
              "    .dataframe tbody tr th {\n",
              "        vertical-align: top;\n",
              "    }\n",
              "\n",
              "    .dataframe thead th {\n",
              "        text-align: right;\n",
              "    }\n",
              "</style>\n",
              "<table border=\"1\" class=\"dataframe\">\n",
              "  <thead>\n",
              "    <tr style=\"text-align: right;\">\n",
              "      <th></th>\n",
              "      <th>Video Title</th>\n",
              "      <th>Views</th>\n",
              "      <th>Update Date</th>\n",
              "      <th>Publish Date</th>\n",
              "    </tr>\n",
              "  </thead>\n",
              "  <tbody>\n",
              "    <tr>\n",
              "      <th>2374</th>\n",
              "      <td>Biomechanics of Running: The Science of Moveme...</td>\n",
              "      <td>196</td>\n",
              "      <td>2020-01-31</td>\n",
              "      <td>2014-09-13</td>\n",
              "    </tr>\n",
              "    <tr>\n",
              "      <th>2375</th>\n",
              "      <td>The Origins of Genus Homo</td>\n",
              "      <td>123</td>\n",
              "      <td>2020-01-31</td>\n",
              "      <td>2018-06-18</td>\n",
              "    </tr>\n",
              "    <tr>\n",
              "      <th>2376</th>\n",
              "      <td>The Heart of Marine Biodiversity  Saving the V...</td>\n",
              "      <td>100</td>\n",
              "      <td>2020-01-31</td>\n",
              "      <td>2016-10-12</td>\n",
              "    </tr>\n",
              "    <tr>\n",
              "      <th>2377</th>\n",
              "      <td>The Heart of Marine Biodiversity: Saving the V...</td>\n",
              "      <td>85</td>\n",
              "      <td>2020-01-31</td>\n",
              "      <td>2016-09-29</td>\n",
              "    </tr>\n",
              "    <tr>\n",
              "      <th>2378</th>\n",
              "      <td>The Science of Addiction</td>\n",
              "      <td>80</td>\n",
              "      <td>2020-01-31</td>\n",
              "      <td>2016-03-24</td>\n",
              "    </tr>\n",
              "    <tr>\n",
              "      <th>2231</th>\n",
              "      <td>Biomechanics of Running: The Science of Moveme...</td>\n",
              "      <td>166</td>\n",
              "      <td>2020-02-29</td>\n",
              "      <td>2014-09-13</td>\n",
              "    </tr>\n",
              "    <tr>\n",
              "      <th>2232</th>\n",
              "      <td>The Heart of Marine Biodiversity  Saving the V...</td>\n",
              "      <td>160</td>\n",
              "      <td>2020-02-29</td>\n",
              "      <td>2016-10-12</td>\n",
              "    </tr>\n",
              "    <tr>\n",
              "      <th>2233</th>\n",
              "      <td>The Origins of Genus Homo</td>\n",
              "      <td>127</td>\n",
              "      <td>2020-02-29</td>\n",
              "      <td>2018-06-18</td>\n",
              "    </tr>\n",
              "    <tr>\n",
              "      <th>2234</th>\n",
              "      <td>The Heart of Marine Biodiversity: Saving the V...</td>\n",
              "      <td>83</td>\n",
              "      <td>2020-02-29</td>\n",
              "      <td>2016-09-29</td>\n",
              "    </tr>\n",
              "    <tr>\n",
              "      <th>2235</th>\n",
              "      <td>The Science of Addiction</td>\n",
              "      <td>78</td>\n",
              "      <td>2020-02-29</td>\n",
              "      <td>2016-03-24</td>\n",
              "    </tr>\n",
              "    <tr>\n",
              "      <th>2074</th>\n",
              "      <td>Biomechanics of Running: The Science of Moveme...</td>\n",
              "      <td>156</td>\n",
              "      <td>2020-03-31</td>\n",
              "      <td>2014-09-13</td>\n",
              "    </tr>\n",
              "    <tr>\n",
              "      <th>2075</th>\n",
              "      <td>The Origins of Genus Homo</td>\n",
              "      <td>147</td>\n",
              "      <td>2020-03-31</td>\n",
              "      <td>2018-06-18</td>\n",
              "    </tr>\n",
              "    <tr>\n",
              "      <th>2076</th>\n",
              "      <td>The Heart of Marine Biodiversity: Saving the V...</td>\n",
              "      <td>77</td>\n",
              "      <td>2020-03-31</td>\n",
              "      <td>2016-09-29</td>\n",
              "    </tr>\n",
              "    <tr>\n",
              "      <th>2077</th>\n",
              "      <td>The Heart of Marine Biodiversity  Saving the V...</td>\n",
              "      <td>66</td>\n",
              "      <td>2020-03-31</td>\n",
              "      <td>2016-10-12</td>\n",
              "    </tr>\n",
              "    <tr>\n",
              "      <th>2078</th>\n",
              "      <td>Fermilab and the New Frontiers of Physics</td>\n",
              "      <td>55</td>\n",
              "      <td>2020-03-31</td>\n",
              "      <td>2017-09-12</td>\n",
              "    </tr>\n",
              "    <tr>\n",
              "      <th>1933</th>\n",
              "      <td>Biomechanics of Running: The Science of Moveme...</td>\n",
              "      <td>265</td>\n",
              "      <td>2020-04-30</td>\n",
              "      <td>2014-09-13</td>\n",
              "    </tr>\n",
              "    <tr>\n",
              "      <th>1934</th>\n",
              "      <td>The Origins of Genus Homo</td>\n",
              "      <td>191</td>\n",
              "      <td>2020-04-30</td>\n",
              "      <td>2018-06-18</td>\n",
              "    </tr>\n",
              "    <tr>\n",
              "      <th>1935</th>\n",
              "      <td>Making Things Meaningful in the Ice Age</td>\n",
              "      <td>124</td>\n",
              "      <td>2020-04-30</td>\n",
              "      <td>2017-04-12</td>\n",
              "    </tr>\n",
              "    <tr>\n",
              "      <th>1936</th>\n",
              "      <td>The Heart of Marine Biodiversity  Saving the V...</td>\n",
              "      <td>109</td>\n",
              "      <td>2020-04-30</td>\n",
              "      <td>2016-10-12</td>\n",
              "    </tr>\n",
              "    <tr>\n",
              "      <th>1937</th>\n",
              "      <td>The Heart of Marine Biodiversity: Saving the V...</td>\n",
              "      <td>102</td>\n",
              "      <td>2020-04-30</td>\n",
              "      <td>2016-09-29</td>\n",
              "    </tr>\n",
              "    <tr>\n",
              "      <th>1773</th>\n",
              "      <td>Women in Science Symposium 2012 Closing Keynot...</td>\n",
              "      <td>352</td>\n",
              "      <td>2020-05-31</td>\n",
              "      <td>2012-08-13</td>\n",
              "    </tr>\n",
              "    <tr>\n",
              "      <th>1774</th>\n",
              "      <td>Biomechanics of Running: The Science of Moveme...</td>\n",
              "      <td>233</td>\n",
              "      <td>2020-05-31</td>\n",
              "      <td>2014-09-13</td>\n",
              "    </tr>\n",
              "    <tr>\n",
              "      <th>1775</th>\n",
              "      <td>The Origins of Genus Homo</td>\n",
              "      <td>140</td>\n",
              "      <td>2020-05-31</td>\n",
              "      <td>2018-06-18</td>\n",
              "    </tr>\n",
              "    <tr>\n",
              "      <th>1776</th>\n",
              "      <td>The Heart of Marine Biodiversity: Saving the V...</td>\n",
              "      <td>114</td>\n",
              "      <td>2020-05-31</td>\n",
              "      <td>2016-09-29</td>\n",
              "    </tr>\n",
              "    <tr>\n",
              "      <th>1777</th>\n",
              "      <td>The Heart of Marine Biodiversity  Saving the V...</td>\n",
              "      <td>91</td>\n",
              "      <td>2020-05-31</td>\n",
              "      <td>2016-10-12</td>\n",
              "    </tr>\n",
              "    <tr>\n",
              "      <th>1603</th>\n",
              "      <td>Women in Science Symposium 2012 Closing Keynot...</td>\n",
              "      <td>3030</td>\n",
              "      <td>2020-06-30</td>\n",
              "      <td>2012-08-13</td>\n",
              "    </tr>\n",
              "    <tr>\n",
              "      <th>1604</th>\n",
              "      <td>Biomechanics of Running: The Science of Moveme...</td>\n",
              "      <td>211</td>\n",
              "      <td>2020-06-30</td>\n",
              "      <td>2014-09-13</td>\n",
              "    </tr>\n",
              "    <tr>\n",
              "      <th>1605</th>\n",
              "      <td>Art, Science, and the Elegant Universe</td>\n",
              "      <td>165</td>\n",
              "      <td>2020-06-30</td>\n",
              "      <td>2020-06-18</td>\n",
              "    </tr>\n",
              "    <tr>\n",
              "      <th>1606</th>\n",
              "      <td>Art, Science, and the Elegant Universe</td>\n",
              "      <td>165</td>\n",
              "      <td>2020-06-30</td>\n",
              "      <td>2020-06-18</td>\n",
              "    </tr>\n",
              "    <tr>\n",
              "      <th>1607</th>\n",
              "      <td>The Origins of Genus Homo</td>\n",
              "      <td>150</td>\n",
              "      <td>2020-06-30</td>\n",
              "      <td>2018-06-18</td>\n",
              "    </tr>\n",
              "    <tr>\n",
              "      <th>1434</th>\n",
              "      <td>Neutrino 2020 Physics Slam!</td>\n",
              "      <td>1205</td>\n",
              "      <td>2020-07-31</td>\n",
              "      <td>2020-07-02</td>\n",
              "    </tr>\n",
              "    <tr>\n",
              "      <th>1435</th>\n",
              "      <td>Women in Science Symposium 2012 Closing Keynot...</td>\n",
              "      <td>467</td>\n",
              "      <td>2020-07-31</td>\n",
              "      <td>2012-08-13</td>\n",
              "    </tr>\n",
              "    <tr>\n",
              "      <th>1436</th>\n",
              "      <td>The Origins of Genus Homo</td>\n",
              "      <td>184</td>\n",
              "      <td>2020-07-31</td>\n",
              "      <td>2018-06-18</td>\n",
              "    </tr>\n",
              "    <tr>\n",
              "      <th>1437</th>\n",
              "      <td>Biomechanics of Running: The Science of Moveme...</td>\n",
              "      <td>175</td>\n",
              "      <td>2020-07-31</td>\n",
              "      <td>2014-09-13</td>\n",
              "    </tr>\n",
              "    <tr>\n",
              "      <th>1438</th>\n",
              "      <td>Science from the Frontlines: Engineering at th...</td>\n",
              "      <td>128</td>\n",
              "      <td>2020-07-31</td>\n",
              "      <td>2020-07-09</td>\n",
              "    </tr>\n",
              "    <tr>\n",
              "      <th>1248</th>\n",
              "      <td>The Origins of Genus Homo</td>\n",
              "      <td>431</td>\n",
              "      <td>2020-08-31</td>\n",
              "      <td>2018-06-18</td>\n",
              "    </tr>\n",
              "    <tr>\n",
              "      <th>1249</th>\n",
              "      <td>The Study of Ancient DNA: Knowledge from Unexp...</td>\n",
              "      <td>277</td>\n",
              "      <td>2020-08-31</td>\n",
              "      <td>2020-08-20</td>\n",
              "    </tr>\n",
              "    <tr>\n",
              "      <th>1250</th>\n",
              "      <td>Neutrino 2020 Physics Slam!</td>\n",
              "      <td>178</td>\n",
              "      <td>2020-08-31</td>\n",
              "      <td>2020-07-02</td>\n",
              "    </tr>\n",
              "    <tr>\n",
              "      <th>1251</th>\n",
              "      <td>Women in Science Symposium 2012 Closing Keynot...</td>\n",
              "      <td>161</td>\n",
              "      <td>2020-08-31</td>\n",
              "      <td>2012-08-13</td>\n",
              "    </tr>\n",
              "    <tr>\n",
              "      <th>1252</th>\n",
              "      <td>Program: The Art of Logic with Dr. Eugenia Cheng</td>\n",
              "      <td>144</td>\n",
              "      <td>2020-08-31</td>\n",
              "      <td>2020-01-10</td>\n",
              "    </tr>\n",
              "    <tr>\n",
              "      <th>1085</th>\n",
              "      <td>Forensic Genomic Technologies: New Frontiers B...</td>\n",
              "      <td>761</td>\n",
              "      <td>2020-09-30</td>\n",
              "      <td>2020-06-26</td>\n",
              "    </tr>\n",
              "    <tr>\n",
              "      <th>1086</th>\n",
              "      <td>The Origins of Genus Homo</td>\n",
              "      <td>432</td>\n",
              "      <td>2020-09-30</td>\n",
              "      <td>2018-06-18</td>\n",
              "    </tr>\n",
              "    <tr>\n",
              "      <th>1087</th>\n",
              "      <td>Biomechanics of Running: The Science of Moveme...</td>\n",
              "      <td>150</td>\n",
              "      <td>2020-09-30</td>\n",
              "      <td>2014-09-13</td>\n",
              "    </tr>\n",
              "    <tr>\n",
              "      <th>1088</th>\n",
              "      <td>Women in Science Symposium 2012 Closing Keynot...</td>\n",
              "      <td>118</td>\n",
              "      <td>2020-09-30</td>\n",
              "      <td>2012-08-13</td>\n",
              "    </tr>\n",
              "    <tr>\n",
              "      <th>1089</th>\n",
              "      <td>Program: The Art of Logic with Dr. Eugenia Cheng</td>\n",
              "      <td>86</td>\n",
              "      <td>2020-09-30</td>\n",
              "      <td>2020-01-10</td>\n",
              "    </tr>\n",
              "    <tr>\n",
              "      <th>893</th>\n",
              "      <td>The Origins of Genus Homo</td>\n",
              "      <td>539</td>\n",
              "      <td>2020-10-31</td>\n",
              "      <td>2018-06-18</td>\n",
              "    </tr>\n",
              "    <tr>\n",
              "      <th>894</th>\n",
              "      <td>Deploying SHIELD: To Illinois and Beyond</td>\n",
              "      <td>303</td>\n",
              "      <td>2020-10-31</td>\n",
              "      <td>NaT</td>\n",
              "    </tr>\n",
              "    <tr>\n",
              "      <th>895</th>\n",
              "      <td>Biomechanics of Running: The Science of Moveme...</td>\n",
              "      <td>208</td>\n",
              "      <td>2020-10-31</td>\n",
              "      <td>2014-09-13</td>\n",
              "    </tr>\n",
              "    <tr>\n",
              "      <th>896</th>\n",
              "      <td>Engineering Plants: The 12,000 Year Plan</td>\n",
              "      <td>164</td>\n",
              "      <td>2020-10-31</td>\n",
              "      <td>NaT</td>\n",
              "    </tr>\n",
              "    <tr>\n",
              "      <th>897</th>\n",
              "      <td>Extreme Science: The U.S. Antarctic Program</td>\n",
              "      <td>153</td>\n",
              "      <td>2020-10-31</td>\n",
              "      <td>2017-04-21</td>\n",
              "    </tr>\n",
              "    <tr>\n",
              "      <th>697</th>\n",
              "      <td>Picture a Scientist: Virtual Film Screening an...</td>\n",
              "      <td>444</td>\n",
              "      <td>2020-11-30</td>\n",
              "      <td>NaT</td>\n",
              "    </tr>\n",
              "    <tr>\n",
              "      <th>698</th>\n",
              "      <td>The Origins of Genus Homo</td>\n",
              "      <td>393</td>\n",
              "      <td>2020-11-30</td>\n",
              "      <td>2018-06-18</td>\n",
              "    </tr>\n",
              "    <tr>\n",
              "      <th>699</th>\n",
              "      <td>Biomechanics of Running: The Science of Moveme...</td>\n",
              "      <td>198</td>\n",
              "      <td>2020-11-30</td>\n",
              "      <td>2014-09-13</td>\n",
              "    </tr>\n",
              "    <tr>\n",
              "      <th>700</th>\n",
              "      <td>Program: The Art of Logic with Dr. Eugenia Cheng</td>\n",
              "      <td>112</td>\n",
              "      <td>2020-11-30</td>\n",
              "      <td>2020-01-10</td>\n",
              "    </tr>\n",
              "    <tr>\n",
              "      <th>701</th>\n",
              "      <td>Head Banging: How Music and Concussions Impact...</td>\n",
              "      <td>111</td>\n",
              "      <td>2020-11-30</td>\n",
              "      <td>2018-10-04</td>\n",
              "    </tr>\n",
              "    <tr>\n",
              "      <th>517</th>\n",
              "      <td>Picture a Scientist: Virtual Film Screening an...</td>\n",
              "      <td>432</td>\n",
              "      <td>2020-12-31</td>\n",
              "      <td>NaT</td>\n",
              "    </tr>\n",
              "    <tr>\n",
              "      <th>518</th>\n",
              "      <td>Chicago’s Animal Kingdom</td>\n",
              "      <td>391</td>\n",
              "      <td>2020-12-31</td>\n",
              "      <td>NaT</td>\n",
              "    </tr>\n",
              "    <tr>\n",
              "      <th>519</th>\n",
              "      <td>The Origins of Genus Homo</td>\n",
              "      <td>295</td>\n",
              "      <td>2020-12-31</td>\n",
              "      <td>2018-06-18</td>\n",
              "    </tr>\n",
              "    <tr>\n",
              "      <th>520</th>\n",
              "      <td>Ask the Scientists: 2020 Nobel Science Topics</td>\n",
              "      <td>158</td>\n",
              "      <td>2020-12-31</td>\n",
              "      <td>NaT</td>\n",
              "    </tr>\n",
              "    <tr>\n",
              "      <th>521</th>\n",
              "      <td>Biomechanics of Running: The Science of Moveme...</td>\n",
              "      <td>155</td>\n",
              "      <td>2020-12-31</td>\n",
              "      <td>2014-09-13</td>\n",
              "    </tr>\n",
              "    <tr>\n",
              "      <th>344</th>\n",
              "      <td>The Origins of Genus Homo</td>\n",
              "      <td>215</td>\n",
              "      <td>2021-01-31</td>\n",
              "      <td>2018-06-18</td>\n",
              "    </tr>\n",
              "    <tr>\n",
              "      <th>345</th>\n",
              "      <td>Biomechanics of Running: The Science of Moveme...</td>\n",
              "      <td>210</td>\n",
              "      <td>2021-01-31</td>\n",
              "      <td>2014-09-13</td>\n",
              "    </tr>\n",
              "    <tr>\n",
              "      <th>346</th>\n",
              "      <td>The Secret Lives of Female Chimpanzees</td>\n",
              "      <td>115</td>\n",
              "      <td>2021-01-31</td>\n",
              "      <td>2016-08-18</td>\n",
              "    </tr>\n",
              "    <tr>\n",
              "      <th>347</th>\n",
              "      <td>Program: The Art of Logic with Dr. Eugenia Cheng</td>\n",
              "      <td>104</td>\n",
              "      <td>2021-01-31</td>\n",
              "      <td>2020-01-10</td>\n",
              "    </tr>\n",
              "    <tr>\n",
              "      <th>348</th>\n",
              "      <td>Head Banging: How Music and Concussions Impact...</td>\n",
              "      <td>102</td>\n",
              "      <td>2021-01-31</td>\n",
              "      <td>2018-10-04</td>\n",
              "    </tr>\n",
              "    <tr>\n",
              "      <th>177</th>\n",
              "      <td>The Origins of Genus Homo</td>\n",
              "      <td>430</td>\n",
              "      <td>2021-02-28</td>\n",
              "      <td>2018-06-18</td>\n",
              "    </tr>\n",
              "    <tr>\n",
              "      <th>178</th>\n",
              "      <td>Mapping the Origins of the Universe</td>\n",
              "      <td>334</td>\n",
              "      <td>2021-02-28</td>\n",
              "      <td>NaT</td>\n",
              "    </tr>\n",
              "    <tr>\n",
              "      <th>179</th>\n",
              "      <td>Forensic Genomic Technologies: New Frontiers B...</td>\n",
              "      <td>217</td>\n",
              "      <td>2021-02-28</td>\n",
              "      <td>2020-06-26</td>\n",
              "    </tr>\n",
              "    <tr>\n",
              "      <th>180</th>\n",
              "      <td>Modeling Chicago for the COVID-19 Pandemic</td>\n",
              "      <td>174</td>\n",
              "      <td>2021-02-28</td>\n",
              "      <td>NaT</td>\n",
              "    </tr>\n",
              "    <tr>\n",
              "      <th>181</th>\n",
              "      <td>Biomechanics of Running: The Science of Moveme...</td>\n",
              "      <td>165</td>\n",
              "      <td>2021-02-28</td>\n",
              "      <td>2014-09-13</td>\n",
              "    </tr>\n",
              "    <tr>\n",
              "      <th>0</th>\n",
              "      <td>The Origins of Genus Homo</td>\n",
              "      <td>473</td>\n",
              "      <td>2021-03-25</td>\n",
              "      <td>2018-06-18</td>\n",
              "    </tr>\n",
              "    <tr>\n",
              "      <th>1</th>\n",
              "      <td>COVID Vaccines: Fact vs. Fiction</td>\n",
              "      <td>221</td>\n",
              "      <td>2021-03-25</td>\n",
              "      <td>NaT</td>\n",
              "    </tr>\n",
              "    <tr>\n",
              "      <th>2</th>\n",
              "      <td>Biomechanics of Running: The Science of Moveme...</td>\n",
              "      <td>153</td>\n",
              "      <td>2021-03-25</td>\n",
              "      <td>2014-09-13</td>\n",
              "    </tr>\n",
              "    <tr>\n",
              "      <th>3</th>\n",
              "      <td>Mental Help: Coping with Bias &amp; Collective Trauma</td>\n",
              "      <td>124</td>\n",
              "      <td>2021-03-25</td>\n",
              "      <td>NaT</td>\n",
              "    </tr>\n",
              "    <tr>\n",
              "      <th>4</th>\n",
              "      <td>Dietary Supplements: Stories of Regulation, Sa...</td>\n",
              "      <td>88</td>\n",
              "      <td>2021-03-25</td>\n",
              "      <td>2017-06-26</td>\n",
              "    </tr>\n",
              "  </tbody>\n",
              "</table>\n",
              "</div>"
            ],
            "text/plain": [
              "                                            Video Title  ...  Publish Date\n",
              "2374  Biomechanics of Running: The Science of Moveme...  ...    2014-09-13\n",
              "2375                          The Origins of Genus Homo  ...    2018-06-18\n",
              "2376  The Heart of Marine Biodiversity  Saving the V...  ...    2016-10-12\n",
              "2377  The Heart of Marine Biodiversity: Saving the V...  ...    2016-09-29\n",
              "2378                           The Science of Addiction  ...    2016-03-24\n",
              "2231  Biomechanics of Running: The Science of Moveme...  ...    2014-09-13\n",
              "2232  The Heart of Marine Biodiversity  Saving the V...  ...    2016-10-12\n",
              "2233                          The Origins of Genus Homo  ...    2018-06-18\n",
              "2234  The Heart of Marine Biodiversity: Saving the V...  ...    2016-09-29\n",
              "2235                           The Science of Addiction  ...    2016-03-24\n",
              "2074  Biomechanics of Running: The Science of Moveme...  ...    2014-09-13\n",
              "2075                          The Origins of Genus Homo  ...    2018-06-18\n",
              "2076  The Heart of Marine Biodiversity: Saving the V...  ...    2016-09-29\n",
              "2077  The Heart of Marine Biodiversity  Saving the V...  ...    2016-10-12\n",
              "2078          Fermilab and the New Frontiers of Physics  ...    2017-09-12\n",
              "1933  Biomechanics of Running: The Science of Moveme...  ...    2014-09-13\n",
              "1934                          The Origins of Genus Homo  ...    2018-06-18\n",
              "1935            Making Things Meaningful in the Ice Age  ...    2017-04-12\n",
              "1936  The Heart of Marine Biodiversity  Saving the V...  ...    2016-10-12\n",
              "1937  The Heart of Marine Biodiversity: Saving the V...  ...    2016-09-29\n",
              "1773  Women in Science Symposium 2012 Closing Keynot...  ...    2012-08-13\n",
              "1774  Biomechanics of Running: The Science of Moveme...  ...    2014-09-13\n",
              "1775                          The Origins of Genus Homo  ...    2018-06-18\n",
              "1776  The Heart of Marine Biodiversity: Saving the V...  ...    2016-09-29\n",
              "1777  The Heart of Marine Biodiversity  Saving the V...  ...    2016-10-12\n",
              "1603  Women in Science Symposium 2012 Closing Keynot...  ...    2012-08-13\n",
              "1604  Biomechanics of Running: The Science of Moveme...  ...    2014-09-13\n",
              "1605             Art, Science, and the Elegant Universe  ...    2020-06-18\n",
              "1606             Art, Science, and the Elegant Universe  ...    2020-06-18\n",
              "1607                          The Origins of Genus Homo  ...    2018-06-18\n",
              "1434                        Neutrino 2020 Physics Slam!  ...    2020-07-02\n",
              "1435  Women in Science Symposium 2012 Closing Keynot...  ...    2012-08-13\n",
              "1436                          The Origins of Genus Homo  ...    2018-06-18\n",
              "1437  Biomechanics of Running: The Science of Moveme...  ...    2014-09-13\n",
              "1438  Science from the Frontlines: Engineering at th...  ...    2020-07-09\n",
              "1248                          The Origins of Genus Homo  ...    2018-06-18\n",
              "1249  The Study of Ancient DNA: Knowledge from Unexp...  ...    2020-08-20\n",
              "1250                        Neutrino 2020 Physics Slam!  ...    2020-07-02\n",
              "1251  Women in Science Symposium 2012 Closing Keynot...  ...    2012-08-13\n",
              "1252   Program: The Art of Logic with Dr. Eugenia Cheng  ...    2020-01-10\n",
              "1085  Forensic Genomic Technologies: New Frontiers B...  ...    2020-06-26\n",
              "1086                          The Origins of Genus Homo  ...    2018-06-18\n",
              "1087  Biomechanics of Running: The Science of Moveme...  ...    2014-09-13\n",
              "1088  Women in Science Symposium 2012 Closing Keynot...  ...    2012-08-13\n",
              "1089   Program: The Art of Logic with Dr. Eugenia Cheng  ...    2020-01-10\n",
              "893                           The Origins of Genus Homo  ...    2018-06-18\n",
              "894            Deploying SHIELD: To Illinois and Beyond  ...           NaT\n",
              "895   Biomechanics of Running: The Science of Moveme...  ...    2014-09-13\n",
              "896            Engineering Plants: The 12,000 Year Plan  ...           NaT\n",
              "897         Extreme Science: The U.S. Antarctic Program  ...    2017-04-21\n",
              "697   Picture a Scientist: Virtual Film Screening an...  ...           NaT\n",
              "698                           The Origins of Genus Homo  ...    2018-06-18\n",
              "699   Biomechanics of Running: The Science of Moveme...  ...    2014-09-13\n",
              "700    Program: The Art of Logic with Dr. Eugenia Cheng  ...    2020-01-10\n",
              "701   Head Banging: How Music and Concussions Impact...  ...    2018-10-04\n",
              "517   Picture a Scientist: Virtual Film Screening an...  ...           NaT\n",
              "518                            Chicago’s Animal Kingdom  ...           NaT\n",
              "519                           The Origins of Genus Homo  ...    2018-06-18\n",
              "520       Ask the Scientists: 2020 Nobel Science Topics  ...           NaT\n",
              "521   Biomechanics of Running: The Science of Moveme...  ...    2014-09-13\n",
              "344                           The Origins of Genus Homo  ...    2018-06-18\n",
              "345   Biomechanics of Running: The Science of Moveme...  ...    2014-09-13\n",
              "346              The Secret Lives of Female Chimpanzees  ...    2016-08-18\n",
              "347    Program: The Art of Logic with Dr. Eugenia Cheng  ...    2020-01-10\n",
              "348   Head Banging: How Music and Concussions Impact...  ...    2018-10-04\n",
              "177                           The Origins of Genus Homo  ...    2018-06-18\n",
              "178                 Mapping the Origins of the Universe  ...           NaT\n",
              "179   Forensic Genomic Technologies: New Frontiers B...  ...    2020-06-26\n",
              "180          Modeling Chicago for the COVID-19 Pandemic  ...           NaT\n",
              "181   Biomechanics of Running: The Science of Moveme...  ...    2014-09-13\n",
              "0                             The Origins of Genus Homo  ...    2018-06-18\n",
              "1                      COVID Vaccines: Fact vs. Fiction  ...           NaT\n",
              "2     Biomechanics of Running: The Science of Moveme...  ...    2014-09-13\n",
              "3     Mental Help: Coping with Bias & Collective Trauma  ...           NaT\n",
              "4     Dietary Supplements: Stories of Regulation, Sa...  ...    2017-06-26\n",
              "\n",
              "[75 rows x 4 columns]"
            ]
          },
          "metadata": {
            "tags": []
          },
          "execution_count": 25
        }
      ]
    },
    {
      "cell_type": "code",
      "metadata": {
        "id": "SiRSHnRR2V_c"
      },
      "source": [
        ""
      ],
      "execution_count": null,
      "outputs": []
    },
    {
      "cell_type": "markdown",
      "metadata": {
        "id": "Z76z-oaNsYYd"
      },
      "source": [
        "### 2.2.3: Watchtimes\n",
        "#### 2.2.3.1 Watchtimes distribution by month"
      ]
    },
    {
      "cell_type": "code",
      "metadata": {
        "id": "IAfvVU3NsvW0",
        "colab": {
          "base_uri": "https://localhost:8080/",
          "height": 894
        },
        "outputId": "3d73d03b-7363-493f-f4ae-0883b165c29f"
      },
      "source": [
        "ax = plt.figure(figsize=(20,15))\n",
        "watchtime_df = month_df.copy()\n",
        "watchtime_df['Watch Time'] = watchtime_df['Watch Time']/(60)     # convert to minutes\n",
        "ax = sns.boxplot(x=\"Month\", y=\"Watch Time\", data = watchtime_df)\n",
        "ax.set_ylim(0,15)"
      ],
      "execution_count": null,
      "outputs": [
        {
          "output_type": "execute_result",
          "data": {
            "text/plain": [
              "(0.0, 15.0)"
            ]
          },
          "metadata": {
            "tags": []
          },
          "execution_count": 26
        },
        {
          "output_type": "display_data",
          "data": {
            "image/png": "[encoded data removed]",
            "text/plain": [
              "<Figure size 1440x1080 with 1 Axes>"
            ]
          },
          "metadata": {
            "tags": [],
            "needs_background": "light"
          }
        }
      ]
    }
  ]
}